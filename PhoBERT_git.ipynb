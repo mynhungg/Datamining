{
  "nbformat": 4,
  "nbformat_minor": 0,
  "metadata": {
    "colab": {
      "provenance": [],
      "mount_file_id": "1pLE8sf6wptv0v0jwTGhKFaw6UIl8rC7y",
      "authorship_tag": "ABX9TyPNMBfw48oxnQBQghAwFU6F",
      "include_colab_link": true
    },
    "kernelspec": {
      "name": "python3",
      "display_name": "Python 3"
    },
    "language_info": {
      "name": "python"
    }
  },
  "cells": [
    {
      "cell_type": "markdown",
      "metadata": {
        "id": "view-in-github",
        "colab_type": "text"
      },
      "source": [
        "<a href=\"https://colab.research.google.com/github/mynhungg/Datamining/blob/main/PhoBERT_git.ipynb\" target=\"_parent\"><img src=\"https://colab.research.google.com/assets/colab-badge.svg\" alt=\"Open In Colab\"/></a>"
      ]
    },
    {
      "cell_type": "code",
      "execution_count": 1,
      "metadata": {
        "colab": {
          "base_uri": "https://localhost:8080/"
        },
        "id": "zWS030wQymOZ",
        "outputId": "cc9128c3-43bf-49ee-c684-e4d72eef504e"
      },
      "outputs": [
        {
          "output_type": "stream",
          "name": "stdout",
          "text": [
            "Cloning into 'nlp-text-classification'...\n",
            "remote: Enumerating objects: 17, done.\u001b[K\n",
            "remote: Counting objects: 100% (17/17), done.\u001b[K\n",
            "remote: Compressing objects: 100% (14/14), done.\u001b[K\n",
            "remote: Total 17 (delta 4), reused 15 (delta 2), pack-reused 0\u001b[K\n",
            "Unpacking objects: 100% (17/17), 162.50 KiB | 9.03 MiB/s, done.\n"
          ]
        }
      ],
      "source": [
        "!git clone https://github.com/sLeeNguyen/nlp-text-classification.git"
      ]
    },
    {
      "cell_type": "code",
      "source": [
        "cd /content/nlp-text-classification"
      ],
      "metadata": {
        "colab": {
          "base_uri": "https://localhost:8080/"
        },
        "id": "kIBJsYgoyyQw",
        "outputId": "8c06dd36-3e49-415a-bede-f116686fa058"
      },
      "execution_count": 2,
      "outputs": [
        {
          "output_type": "stream",
          "name": "stdout",
          "text": [
            "/content/nlp-text-classification\n"
          ]
        }
      ]
    },
    {
      "cell_type": "code",
      "source": [
        "!pip install -r requirements.txt"
      ],
      "metadata": {
        "colab": {
          "base_uri": "https://localhost:8080/"
        },
        "id": "aAbwy_GIy5my",
        "outputId": "7004ed35-e68a-4f7a-a581-9c2ee7c6c3db"
      },
      "execution_count": 5,
      "outputs": [
        {
          "output_type": "stream",
          "name": "stdout",
          "text": [
            "Looking in indexes: https://pypi.org/simple, https://us-python.pkg.dev/colab-wheels/public/simple/\n",
            "Requirement already satisfied: antlr4-python3-runtime==4.8 in /usr/local/lib/python3.10/dist-packages (from -r requirements.txt (line 1)) (4.8)\n",
            "Requirement already satisfied: anyio==3.6.2 in /usr/local/lib/python3.10/dist-packages (from -r requirements.txt (line 2)) (3.6.2)\n",
            "Requirement already satisfied: autopep8==2.0.0 in /usr/local/lib/python3.10/dist-packages (from -r requirements.txt (line 3)) (2.0.0)\n",
            "Requirement already satisfied: bitarray==2.6.0 in /usr/local/lib/python3.10/dist-packages (from -r requirements.txt (line 4)) (2.6.0)\n",
            "Requirement already satisfied: certifi==2022.9.24 in /usr/local/lib/python3.10/dist-packages (from -r requirements.txt (line 5)) (2022.9.24)\n",
            "Requirement already satisfied: cffi==1.15.1 in /usr/local/lib/python3.10/dist-packages (from -r requirements.txt (line 6)) (1.15.1)\n",
            "Requirement already satisfied: charset-normalizer==2.1.1 in /usr/local/lib/python3.10/dist-packages (from -r requirements.txt (line 7)) (2.1.1)\n",
            "Requirement already satisfied: click==8.1.3 in /usr/local/lib/python3.10/dist-packages (from -r requirements.txt (line 8)) (8.1.3)\n",
            "Requirement already satisfied: colorama==0.4.6 in /usr/local/lib/python3.10/dist-packages (from -r requirements.txt (line 9)) (0.4.6)\n",
            "Requirement already satisfied: Cython==0.29.32 in /usr/local/lib/python3.10/dist-packages (from -r requirements.txt (line 10)) (0.29.32)\n",
            "Requirement already satisfied: fairseq==0.12.2 in /usr/local/lib/python3.10/dist-packages (from -r requirements.txt (line 11)) (0.12.2)\n",
            "Requirement already satisfied: fastapi==0.87.0 in /usr/local/lib/python3.10/dist-packages (from -r requirements.txt (line 12)) (0.87.0)\n",
            "Requirement already satisfied: fastBPE==0.1.0 in /usr/local/lib/python3.10/dist-packages (from -r requirements.txt (line 13)) (0.1.0)\n",
            "Requirement already satisfied: h11==0.14.0 in /usr/local/lib/python3.10/dist-packages (from -r requirements.txt (line 14)) (0.14.0)\n",
            "Requirement already satisfied: httptools==0.5.0 in /usr/local/lib/python3.10/dist-packages (from -r requirements.txt (line 15)) (0.5.0)\n",
            "Requirement already satisfied: hydra-core==1.0.7 in /usr/local/lib/python3.10/dist-packages (from -r requirements.txt (line 16)) (1.0.7)\n",
            "Requirement already satisfied: idna==3.4 in /usr/local/lib/python3.10/dist-packages (from -r requirements.txt (line 17)) (3.4)\n",
            "Requirement already satisfied: importlib-resources==5.10.0 in /usr/local/lib/python3.10/dist-packages (from -r requirements.txt (line 18)) (5.10.0)\n",
            "Requirement already satisfied: joblib==1.2.0 in /usr/local/lib/python3.10/dist-packages (from -r requirements.txt (line 19)) (1.2.0)\n",
            "Requirement already satisfied: lxml==4.9.1 in /usr/local/lib/python3.10/dist-packages (from -r requirements.txt (line 20)) (4.9.1)\n",
            "Requirement already satisfied: numpy==1.23.5 in /usr/local/lib/python3.10/dist-packages (from -r requirements.txt (line 21)) (1.23.5)\n",
            "Requirement already satisfied: omegaconf==2.0.6 in /usr/local/lib/python3.10/dist-packages (from -r requirements.txt (line 22)) (2.0.6)\n",
            "Requirement already satisfied: portalocker==2.6.0 in /usr/local/lib/python3.10/dist-packages (from -r requirements.txt (line 23)) (2.6.0)\n",
            "Requirement already satisfied: pycodestyle==2.9.1 in /usr/local/lib/python3.10/dist-packages (from -r requirements.txt (line 24)) (2.9.1)\n",
            "Requirement already satisfied: pycparser==2.21 in /usr/local/lib/python3.10/dist-packages (from -r requirements.txt (line 25)) (2.21)\n",
            "Requirement already satisfied: pydantic==1.10.2 in /usr/local/lib/python3.10/dist-packages (from -r requirements.txt (line 26)) (1.10.2)\n",
            "Requirement already satisfied: python-dotenv==0.21.0 in /usr/local/lib/python3.10/dist-packages (from -r requirements.txt (line 27)) (0.21.0)\n",
            "Requirement already satisfied: PyYAML==6.0 in /usr/local/lib/python3.10/dist-packages (from -r requirements.txt (line 28)) (6.0)\n",
            "Requirement already satisfied: regex==2022.10.31 in /usr/local/lib/python3.10/dist-packages (from -r requirements.txt (line 29)) (2022.10.31)\n",
            "Requirement already satisfied: requests==2.28.1 in /usr/local/lib/python3.10/dist-packages (from -r requirements.txt (line 30)) (2.28.1)\n",
            "Requirement already satisfied: sacrebleu==2.3.1 in /usr/local/lib/python3.10/dist-packages (from -r requirements.txt (line 31)) (2.3.1)\n",
            "Requirement already satisfied: scikit-learn==1.1.3 in /usr/local/lib/python3.10/dist-packages (from -r requirements.txt (line 32)) (1.1.3)\n",
            "Requirement already satisfied: scipy==1.9.3 in /usr/local/lib/python3.10/dist-packages (from -r requirements.txt (line 33)) (1.9.3)\n",
            "Requirement already satisfied: sklearn==0.0.post1 in /usr/local/lib/python3.10/dist-packages (from -r requirements.txt (line 34)) (0.0.post1)\n",
            "Requirement already satisfied: sniffio==1.3.0 in /usr/local/lib/python3.10/dist-packages (from -r requirements.txt (line 35)) (1.3.0)\n",
            "Requirement already satisfied: starlette==0.21.0 in /usr/local/lib/python3.10/dist-packages (from -r requirements.txt (line 36)) (0.21.0)\n",
            "Requirement already satisfied: tabulate==0.9.0 in /usr/local/lib/python3.10/dist-packages (from -r requirements.txt (line 37)) (0.9.0)\n",
            "Requirement already satisfied: threadpoolctl==3.1.0 in /usr/local/lib/python3.10/dist-packages (from -r requirements.txt (line 38)) (3.1.0)\n",
            "Requirement already satisfied: tomli==2.0.1 in /usr/local/lib/python3.10/dist-packages (from -r requirements.txt (line 39)) (2.0.1)\n",
            "Requirement already satisfied: torch==1.13.0 in /usr/local/lib/python3.10/dist-packages (from -r requirements.txt (line 40)) (1.13.0)\n",
            "Requirement already satisfied: torchaudio==0.13.0 in /usr/local/lib/python3.10/dist-packages (from -r requirements.txt (line 41)) (0.13.0)\n",
            "Requirement already satisfied: tqdm==4.64.1 in /usr/local/lib/python3.10/dist-packages (from -r requirements.txt (line 42)) (4.64.1)\n",
            "Requirement already satisfied: typing_extensions==4.4.0 in /usr/local/lib/python3.10/dist-packages (from -r requirements.txt (line 43)) (4.4.0)\n",
            "Requirement already satisfied: urllib3==1.26.12 in /usr/local/lib/python3.10/dist-packages (from -r requirements.txt (line 44)) (1.26.12)\n",
            "Requirement already satisfied: uvicorn==0.20.0 in /usr/local/lib/python3.10/dist-packages (from -r requirements.txt (line 45)) (0.20.0)\n",
            "Requirement already satisfied: uvloop==0.17.0 in /usr/local/lib/python3.10/dist-packages (from -r requirements.txt (line 46)) (0.17.0)\n",
            "Requirement already satisfied: vncorenlp==1.0.3 in /usr/local/lib/python3.10/dist-packages (from -r requirements.txt (line 47)) (1.0.3)\n",
            "Requirement already satisfied: watchfiles==0.18.1 in /usr/local/lib/python3.10/dist-packages (from -r requirements.txt (line 48)) (0.18.1)\n",
            "Requirement already satisfied: websockets==10.4 in /usr/local/lib/python3.10/dist-packages (from -r requirements.txt (line 49)) (10.4)\n",
            "Requirement already satisfied: zipp==3.10.0 in /usr/local/lib/python3.10/dist-packages (from -r requirements.txt (line 50)) (3.10.0)\n",
            "Requirement already satisfied: nvidia-cuda-runtime-cu11==11.7.99 in /usr/local/lib/python3.10/dist-packages (from torch==1.13.0->-r requirements.txt (line 40)) (11.7.99)\n",
            "Requirement already satisfied: nvidia-cudnn-cu11==8.5.0.96 in /usr/local/lib/python3.10/dist-packages (from torch==1.13.0->-r requirements.txt (line 40)) (8.5.0.96)\n",
            "Requirement already satisfied: nvidia-cublas-cu11==11.10.3.66 in /usr/local/lib/python3.10/dist-packages (from torch==1.13.0->-r requirements.txt (line 40)) (11.10.3.66)\n",
            "Requirement already satisfied: nvidia-cuda-nvrtc-cu11==11.7.99 in /usr/local/lib/python3.10/dist-packages (from torch==1.13.0->-r requirements.txt (line 40)) (11.7.99)\n",
            "Requirement already satisfied: setuptools in /usr/local/lib/python3.10/dist-packages (from nvidia-cublas-cu11==11.10.3.66->torch==1.13.0->-r requirements.txt (line 40)) (67.7.2)\n",
            "Requirement already satisfied: wheel in /usr/local/lib/python3.10/dist-packages (from nvidia-cublas-cu11==11.10.3.66->torch==1.13.0->-r requirements.txt (line 40)) (0.40.0)\n"
          ]
        }
      ]
    },
    {
      "cell_type": "code",
      "source": [
        "!python3 nlp_model.py"
      ],
      "metadata": {
        "colab": {
          "base_uri": "https://localhost:8080/"
        },
        "id": "76r5L0-ry9pi",
        "outputId": "1f26f3b2-6998-416e-fe1e-5dc48a50503c"
      },
      "execution_count": 7,
      "outputs": [
        {
          "output_type": "stream",
          "name": "stdout",
          "text": [
            "2023-05-26 02:33:34 | INFO | fairseq.tasks.text_to_speech | Please install tensorboardX: pip install tensorboardX\n",
            "\n",
            "Loading NLP model...\n",
            "2023-05-26 02:33:34 | INFO | fairseq.file_utils | Archive name 'PhoBERT_base_fairseq' was not found in archive name list. We assumed 'PhoBERT_base_fairseq' was a path or URL but couldn't find any file associated to this path or URL.\n",
            "Traceback (most recent call last):\n",
            "  File \"/content/nlp-text-classification/nlp_model.py\", line 89, in <module>\n",
            "    classifier = TextClassifier()\n",
            "  File \"/content/nlp-text-classification/nlp_model.py\", line 20, in __init__\n",
            "    self.__load_model()\n",
            "  File \"/content/nlp-text-classification/nlp_model.py\", line 31, in __load_model\n",
            "    self.__model = RobertaModel.from_pretrained(\n",
            "  File \"/usr/local/lib/python3.10/dist-packages/fairseq/models/roberta/model.py\", line 369, in from_pretrained\n",
            "    x = hub_utils.from_pretrained(\n",
            "  File \"/usr/local/lib/python3.10/dist-packages/fairseq/hub_utils.py\", line 56, in from_pretrained\n",
            "    kwargs[\"data\"] = os.path.abspath(os.path.join(model_path, data_name_or_path))\n",
            "  File \"/usr/lib/python3.10/posixpath.py\", line 76, in join\n",
            "    a = os.fspath(a)\n",
            "TypeError: expected str, bytes or os.PathLike object, not NoneType\n"
          ]
        }
      ]
    }
  ]
}
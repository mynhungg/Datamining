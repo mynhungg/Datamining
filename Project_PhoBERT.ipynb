{
  "cells": [
    {
      "cell_type": "markdown",
      "metadata": {
        "id": "view-in-github",
        "colab_type": "text"
      },
      "source": [
        "<a href=\"https://colab.research.google.com/github/mynhungg/Datamining/blob/main/Project_PhoBERT.ipynb\" target=\"_parent\"><img src=\"https://colab.research.google.com/assets/colab-badge.svg\" alt=\"Open In Colab\"/></a>"
      ]
    },
    {
      "cell_type": "markdown",
      "metadata": {
        "id": "oE96HGkHDfUn"
      },
      "source": [
        "## Import thư viện\n",
        "\n"
      ]
    },
    {
      "cell_type": "code",
      "source": [
        "from google.colab import drive\n",
        "drive.mount('/content/drive')"
      ],
      "metadata": {
        "colab": {
          "base_uri": "https://localhost:8080/"
        },
        "id": "bKUwWGEBc5Q5",
        "outputId": "c9673d5c-d1c4-4c4b-b094-0ed964d8e413"
      },
      "execution_count": null,
      "outputs": [
        {
          "output_type": "stream",
          "name": "stdout",
          "text": [
            "Mounted at /content/drive\n"
          ]
        }
      ]
    },
    {
      "cell_type": "code",
      "execution_count": null,
      "metadata": {
        "id": "pry2ytalDk-1"
      },
      "outputs": [],
      "source": [
        "import pandas as pd\n"
      ]
    },
    {
      "cell_type": "markdown",
      "metadata": {
        "id": "i2exXVQJxUiI"
      },
      "source": [
        "\n",
        "\n",
        "##1.   Load model BERT\n",
        "\n",
        "\n",
        "\n"
      ]
    },
    {
      "cell_type": "code",
      "execution_count": null,
      "metadata": {
        "colab": {
          "base_uri": "https://localhost:8080/",
          "height": 235
        },
        "id": "n8k2L-iCxUNi",
        "outputId": "25ddd4b8-0d71-426f-b6a8-8924646da269"
      },
      "outputs": [
        {
          "output_type": "stream",
          "name": "stdout",
          "text": [
            "Mounted at /content/gdrive\n"
          ]
        },
        {
          "output_type": "error",
          "ename": "FileNotFoundError",
          "evalue": "ignored",
          "traceback": [
            "\u001b[0;31m---------------------------------------------------------------------------\u001b[0m",
            "\u001b[0;31mFileNotFoundError\u001b[0m                         Traceback (most recent call last)",
            "\u001b[0;32m<ipython-input-9-f67749439c31>\u001b[0m in \u001b[0;36m<cell line: 6>\u001b[0;34m()\u001b[0m\n\u001b[1;32m      4\u001b[0m \u001b[0mdrive\u001b[0m\u001b[0;34m.\u001b[0m\u001b[0mmount\u001b[0m\u001b[0;34m(\u001b[0m\u001b[0;34m'/content/gdrive'\u001b[0m\u001b[0;34m,\u001b[0m \u001b[0mforce_remount\u001b[0m\u001b[0;34m=\u001b[0m\u001b[0;32mTrue\u001b[0m\u001b[0;34m)\u001b[0m\u001b[0;34m\u001b[0m\u001b[0;34m\u001b[0m\u001b[0m\n\u001b[1;32m      5\u001b[0m \u001b[0mpath\u001b[0m \u001b[0;34m=\u001b[0m \u001b[0;34m\"/content/gdrive/MyDrive/Colab Notebooks/PhoBERT_VNTC_4\"\u001b[0m\u001b[0;34m\u001b[0m\u001b[0;34m\u001b[0m\u001b[0m\n\u001b[0;32m----> 6\u001b[0;31m \u001b[0mos\u001b[0m\u001b[0;34m.\u001b[0m\u001b[0mchdir\u001b[0m\u001b[0;34m(\u001b[0m\u001b[0mpath\u001b[0m\u001b[0;34m)\u001b[0m\u001b[0;34m\u001b[0m\u001b[0;34m\u001b[0m\u001b[0m\n\u001b[0m\u001b[1;32m      7\u001b[0m \u001b[0mget_ipython\u001b[0m\u001b[0;34m(\u001b[0m\u001b[0;34m)\u001b[0m\u001b[0;34m.\u001b[0m\u001b[0msystem\u001b[0m\u001b[0;34m(\u001b[0m\u001b[0;34m'ls'\u001b[0m\u001b[0;34m)\u001b[0m\u001b[0;34m\u001b[0m\u001b[0;34m\u001b[0m\u001b[0m\n",
            "\u001b[0;31mFileNotFoundError\u001b[0m: [Errno 2] No such file or directory: '/content/gdrive/MyDrive/Colab Notebooks/PhoBERT_VNTC_4'"
          ]
        }
      ],
      "source": [
        "from google.colab import drive\n",
        "import os\n",
        "\n",
        "drive.mount('/content/gdrive', force_remount=True)\n",
        "path = \"/content/gdrive/MyDrive/Colab Notebooks/PhoBERT_VNTC_4\"\n",
        "os.chdir(path)\n",
        "!ls"
      ]
    },
    {
      "cell_type": "markdown",
      "metadata": {
        "id": "FBipNT9pEHIS"
      },
      "source": [
        "\n",
        "\n",
        "1.   Cài package\n",
        "*   fairseq\n",
        "*   fastBPE\n",
        "*   vncorenlp\n",
        "*   transformers\n",
        "\n",
        "\n",
        "\n"
      ]
    },
    {
      "cell_type": "code",
      "execution_count": null,
      "metadata": {
        "id": "HQd_I_nFEO8t",
        "colab": {
          "base_uri": "https://localhost:8080/"
        },
        "outputId": "7a9cdb50-7f80-4b02-dc53-544a1cc8e757"
      },
      "outputs": [
        {
          "output_type": "stream",
          "name": "stdout",
          "text": [
            "Looking in indexes: https://pypi.org/simple, https://us-python.pkg.dev/colab-wheels/public/simple/\n",
            "Requirement already satisfied: fairseq in /usr/local/lib/python3.10/dist-packages (0.12.2)\n",
            "Requirement already satisfied: cffi in /usr/local/lib/python3.10/dist-packages (from fairseq) (1.15.1)\n",
            "Requirement already satisfied: cython in /usr/local/lib/python3.10/dist-packages (from fairseq) (0.29.34)\n",
            "Requirement already satisfied: hydra-core<1.1,>=1.0.7 in /usr/local/lib/python3.10/dist-packages (from fairseq) (1.0.7)\n",
            "Requirement already satisfied: omegaconf<2.1 in /usr/local/lib/python3.10/dist-packages (from fairseq) (2.0.6)\n",
            "Requirement already satisfied: regex in /usr/local/lib/python3.10/dist-packages (from fairseq) (2022.10.31)\n",
            "Requirement already satisfied: sacrebleu>=1.4.12 in /usr/local/lib/python3.10/dist-packages (from fairseq) (2.3.1)\n",
            "Requirement already satisfied: torch in /usr/local/lib/python3.10/dist-packages (from fairseq) (2.0.1+cu118)\n",
            "Requirement already satisfied: tqdm in /usr/local/lib/python3.10/dist-packages (from fairseq) (4.65.0)\n",
            "Requirement already satisfied: bitarray in /usr/local/lib/python3.10/dist-packages (from fairseq) (2.7.3)\n",
            "Requirement already satisfied: torchaudio>=0.8.0 in /usr/local/lib/python3.10/dist-packages (from fairseq) (2.0.2+cu118)\n",
            "Requirement already satisfied: numpy in /usr/local/lib/python3.10/dist-packages (from fairseq) (1.22.4)\n",
            "Requirement already satisfied: antlr4-python3-runtime==4.8 in /usr/local/lib/python3.10/dist-packages (from hydra-core<1.1,>=1.0.7->fairseq) (4.8)\n",
            "Requirement already satisfied: PyYAML>=5.1.* in /usr/local/lib/python3.10/dist-packages (from omegaconf<2.1->fairseq) (6.0)\n",
            "Requirement already satisfied: typing-extensions in /usr/local/lib/python3.10/dist-packages (from omegaconf<2.1->fairseq) (4.5.0)\n",
            "Requirement already satisfied: portalocker in /usr/local/lib/python3.10/dist-packages (from sacrebleu>=1.4.12->fairseq) (2.7.0)\n",
            "Requirement already satisfied: tabulate>=0.8.9 in /usr/local/lib/python3.10/dist-packages (from sacrebleu>=1.4.12->fairseq) (0.8.10)\n",
            "Requirement already satisfied: colorama in /usr/local/lib/python3.10/dist-packages (from sacrebleu>=1.4.12->fairseq) (0.4.6)\n",
            "Requirement already satisfied: lxml in /usr/local/lib/python3.10/dist-packages (from sacrebleu>=1.4.12->fairseq) (4.9.2)\n",
            "Requirement already satisfied: filelock in /usr/local/lib/python3.10/dist-packages (from torch->fairseq) (3.12.0)\n",
            "Requirement already satisfied: sympy in /usr/local/lib/python3.10/dist-packages (from torch->fairseq) (1.11.1)\n",
            "Requirement already satisfied: networkx in /usr/local/lib/python3.10/dist-packages (from torch->fairseq) (3.1)\n",
            "Requirement already satisfied: jinja2 in /usr/local/lib/python3.10/dist-packages (from torch->fairseq) (3.1.2)\n",
            "Requirement already satisfied: triton==2.0.0 in /usr/local/lib/python3.10/dist-packages (from torch->fairseq) (2.0.0)\n",
            "Requirement already satisfied: cmake in /usr/local/lib/python3.10/dist-packages (from triton==2.0.0->torch->fairseq) (3.25.2)\n",
            "Requirement already satisfied: lit in /usr/local/lib/python3.10/dist-packages (from triton==2.0.0->torch->fairseq) (16.0.5)\n",
            "Requirement already satisfied: pycparser in /usr/local/lib/python3.10/dist-packages (from cffi->fairseq) (2.21)\n",
            "Requirement already satisfied: MarkupSafe>=2.0 in /usr/local/lib/python3.10/dist-packages (from jinja2->torch->fairseq) (2.1.2)\n",
            "Requirement already satisfied: mpmath>=0.19 in /usr/local/lib/python3.10/dist-packages (from sympy->torch->fairseq) (1.3.0)\n",
            "Looking in indexes: https://pypi.org/simple, https://us-python.pkg.dev/colab-wheels/public/simple/\n",
            "Requirement already satisfied: fastbpe in /usr/local/lib/python3.10/dist-packages (0.1.0)\n",
            "Looking in indexes: https://pypi.org/simple, https://us-python.pkg.dev/colab-wheels/public/simple/\n",
            "Requirement already satisfied: vncorenlp in /usr/local/lib/python3.10/dist-packages (1.0.3)\n",
            "Requirement already satisfied: requests in /usr/local/lib/python3.10/dist-packages (from vncorenlp) (2.27.1)\n",
            "Requirement already satisfied: urllib3<1.27,>=1.21.1 in /usr/local/lib/python3.10/dist-packages (from requests->vncorenlp) (1.26.15)\n",
            "Requirement already satisfied: certifi>=2017.4.17 in /usr/local/lib/python3.10/dist-packages (from requests->vncorenlp) (2022.12.7)\n",
            "Requirement already satisfied: charset-normalizer~=2.0.0 in /usr/local/lib/python3.10/dist-packages (from requests->vncorenlp) (2.0.12)\n",
            "Requirement already satisfied: idna<4,>=2.5 in /usr/local/lib/python3.10/dist-packages (from requests->vncorenlp) (3.4)\n",
            "Looking in indexes: https://pypi.org/simple, https://us-python.pkg.dev/colab-wheels/public/simple/\n",
            "Requirement already satisfied: transformers in /usr/local/lib/python3.10/dist-packages (4.29.2)\n",
            "Requirement already satisfied: filelock in /usr/local/lib/python3.10/dist-packages (from transformers) (3.12.0)\n",
            "Requirement already satisfied: huggingface-hub<1.0,>=0.14.1 in /usr/local/lib/python3.10/dist-packages (from transformers) (0.14.1)\n",
            "Requirement already satisfied: numpy>=1.17 in /usr/local/lib/python3.10/dist-packages (from transformers) (1.22.4)\n",
            "Requirement already satisfied: packaging>=20.0 in /usr/local/lib/python3.10/dist-packages (from transformers) (23.1)\n",
            "Requirement already satisfied: pyyaml>=5.1 in /usr/local/lib/python3.10/dist-packages (from transformers) (6.0)\n",
            "Requirement already satisfied: regex!=2019.12.17 in /usr/local/lib/python3.10/dist-packages (from transformers) (2022.10.31)\n",
            "Requirement already satisfied: requests in /usr/local/lib/python3.10/dist-packages (from transformers) (2.27.1)\n",
            "Requirement already satisfied: tokenizers!=0.11.3,<0.14,>=0.11.1 in /usr/local/lib/python3.10/dist-packages (from transformers) (0.13.3)\n",
            "Requirement already satisfied: tqdm>=4.27 in /usr/local/lib/python3.10/dist-packages (from transformers) (4.65.0)\n",
            "Requirement already satisfied: fsspec in /usr/local/lib/python3.10/dist-packages (from huggingface-hub<1.0,>=0.14.1->transformers) (2023.4.0)\n",
            "Requirement already satisfied: typing-extensions>=3.7.4.3 in /usr/local/lib/python3.10/dist-packages (from huggingface-hub<1.0,>=0.14.1->transformers) (4.5.0)\n",
            "Requirement already satisfied: urllib3<1.27,>=1.21.1 in /usr/local/lib/python3.10/dist-packages (from requests->transformers) (1.26.15)\n",
            "Requirement already satisfied: certifi>=2017.4.17 in /usr/local/lib/python3.10/dist-packages (from requests->transformers) (2022.12.7)\n",
            "Requirement already satisfied: charset-normalizer~=2.0.0 in /usr/local/lib/python3.10/dist-packages (from requests->transformers) (2.0.12)\n",
            "Requirement already satisfied: idna<4,>=2.5 in /usr/local/lib/python3.10/dist-packages (from requests->transformers) (3.4)\n"
          ]
        }
      ],
      "source": [
        "!pip3 install fairseq\n",
        "!pip3 install fastbpe\n",
        "!pip3 install vncorenlp\n",
        "!pip3 install transformers"
      ]
    },
    {
      "cell_type": "markdown",
      "metadata": {
        "id": "JoFLSFvREpSO"
      },
      "source": [
        "\n",
        "2.   Download model pretrain từ [PhoBERT](https://github.com/VinAIResearch/PhoBERT)\n",
        "\n",
        "Project sử dụng pretrain model BERT base được huấn luyện từ package fairseq.\n"
      ]
    },
    {
      "cell_type": "code",
      "execution_count": null,
      "metadata": {
        "id": "Ps6uTKkFE9Ka",
        "colab": {
          "base_uri": "https://localhost:8080/"
        },
        "outputId": "bebb9968-d04e-4716-abb6-45031c2e137b"
      },
      "outputs": [
        {
          "output_type": "stream",
          "name": "stdout",
          "text": [
            "--2023-05-23 08:13:16--  https://public.vinai.io/PhoBERT_base_fairseq.tar.gz\n",
            "Resolving public.vinai.io (public.vinai.io)... 54.192.150.44, 54.192.150.106, 54.192.150.17, ...\n",
            "Connecting to public.vinai.io (public.vinai.io)|54.192.150.44|:443... connected.\n",
            "HTTP request sent, awaiting response... 200 OK\n",
            "Length: 1243308020 (1.2G) [application/x-tar]\n",
            "Saving to: ‘PhoBERT_base_fairseq.tar.gz’\n",
            "\n",
            "PhoBERT_base_fairse 100%[===================>]   1.16G  45.9MB/s    in 25s     \n",
            "\n",
            "2023-05-23 08:13:41 (48.4 MB/s) - ‘PhoBERT_base_fairseq.tar.gz’ saved [1243308020/1243308020]\n",
            "\n",
            "PhoBERT_base_fairseq/\n",
            "PhoBERT_base_fairseq/bpe.codes\n",
            "PhoBERT_base_fairseq/model.pt\n",
            "PhoBERT_base_fairseq/dict.txt\n"
          ]
        }
      ],
      "source": [
        "!wget https://public.vinai.io/PhoBERT_base_fairseq.tar.gz\n",
        "!tar -xzvf PhoBERT_base_fairseq.tar.gz"
      ]
    },
    {
      "cell_type": "code",
      "execution_count": null,
      "metadata": {
        "id": "TOhTQMS6qLad",
        "colab": {
          "base_uri": "https://localhost:8080/"
        },
        "outputId": "ee7e53e6-2ab1-44b8-8814-0f3d856b245e"
      },
      "outputs": [
        {
          "output_type": "stream",
          "name": "stdout",
          "text": [
            "--2023-05-23 08:14:12--  https://public.vinai.io/PhoBERT_base_transformers.tar.gz\n",
            "Resolving public.vinai.io (public.vinai.io)... 54.192.150.106, 54.192.150.98, 54.192.150.44, ...\n",
            "Connecting to public.vinai.io (public.vinai.io)|54.192.150.106|:443... connected.\n",
            "HTTP request sent, awaiting response... 200 OK\n",
            "Length: 322405979 (307M) [application/x-tar]\n",
            "Saving to: ‘PhoBERT_base_transformers.tar.gz’\n",
            "\n",
            "PhoBERT_base_transf 100%[===================>] 307.47M  57.2MB/s    in 6.2s    \n",
            "\n",
            "2023-05-23 08:14:18 (49.9 MB/s) - ‘PhoBERT_base_transformers.tar.gz’ saved [322405979/322405979]\n",
            "\n",
            "PhoBERT_base_transformers/\n",
            "PhoBERT_base_transformers/config.json\n",
            "PhoBERT_base_transformers/bpe.codes\n",
            "PhoBERT_base_transformers/model.bin\n",
            "PhoBERT_base_transformers/dict.txt\n"
          ]
        }
      ],
      "source": [
        "!wget https://public.vinai.io/PhoBERT_base_transformers.tar.gz\n",
        "!tar -xzvf PhoBERT_base_transformers.tar.gz"
      ]
    },
    {
      "cell_type": "markdown",
      "metadata": {
        "id": "W7vB0Ri1FcQi"
      },
      "source": [
        "Sau khi download và giải nén pretrain file chúng ta sẽ kiểm tra thấy bên trong folder sẽ bao gồm 3 files đó là `bpe.codes, dict.txt, model.pt` có tác dụng như sau:\n",
        "\n",
        "* bpe.codes: Là BPE token mà mô hình đã áp dụng để mã hóa văn bản sang index.\n",
        "\n",
        "* dict.txt: Từ điển của bộ dữ liệu huấn luyện.\n",
        "\n",
        "* model.pt: File lưu trữ của mô hình trên pytorch."
      ]
    },
    {
      "cell_type": "code",
      "execution_count": null,
      "metadata": {
        "id": "rfRM6lwEETBU",
        "colab": {
          "base_uri": "https://localhost:8080/"
        },
        "outputId": "b63c6ea0-a54d-4427-a668-533084fa18de"
      },
      "outputs": [
        {
          "output_type": "stream",
          "name": "stdout",
          "text": [
            "bpe.codes  dict.txt  model.pt\n"
          ]
        }
      ],
      "source": [
        "!ls PhoBERT_base_fairseq"
      ]
    },
    {
      "cell_type": "markdown",
      "metadata": {
        "id": "zfhtNdHPFnH7"
      },
      "source": [
        "## 2. Load model pretrain PhoBERT"
      ]
    },
    {
      "cell_type": "code",
      "execution_count": null,
      "metadata": {
        "id": "2z_0VK8PFzBS",
        "colab": {
          "base_uri": "https://localhost:8080/"
        },
        "outputId": "d9995d81-2c0e-4c72-c941-8d439ad412c4"
      },
      "outputs": [
        {
          "output_type": "execute_result",
          "data": {
            "text/plain": [
              "RobertaHubInterface(\n",
              "  (model): RobertaModel(\n",
              "    (encoder): RobertaEncoder(\n",
              "      (sentence_encoder): TransformerEncoder(\n",
              "        (dropout_module): FairseqDropout()\n",
              "        (embed_tokens): Embedding(64001, 768, padding_idx=1)\n",
              "        (embed_positions): LearnedPositionalEmbedding(258, 768, padding_idx=1)\n",
              "        (layernorm_embedding): LayerNorm((768,), eps=1e-05, elementwise_affine=True)\n",
              "        (layers): ModuleList(\n",
              "          (0-11): 12 x TransformerEncoderLayerBase(\n",
              "            (self_attn): MultiheadAttention(\n",
              "              (dropout_module): FairseqDropout()\n",
              "              (k_proj): Linear(in_features=768, out_features=768, bias=True)\n",
              "              (v_proj): Linear(in_features=768, out_features=768, bias=True)\n",
              "              (q_proj): Linear(in_features=768, out_features=768, bias=True)\n",
              "              (out_proj): Linear(in_features=768, out_features=768, bias=True)\n",
              "            )\n",
              "            (self_attn_layer_norm): LayerNorm((768,), eps=1e-05, elementwise_affine=True)\n",
              "            (dropout_module): FairseqDropout()\n",
              "            (activation_dropout_module): FairseqDropout()\n",
              "            (fc1): Linear(in_features=768, out_features=3072, bias=True)\n",
              "            (fc2): Linear(in_features=3072, out_features=768, bias=True)\n",
              "            (final_layer_norm): LayerNorm((768,), eps=1e-05, elementwise_affine=True)\n",
              "          )\n",
              "        )\n",
              "      )\n",
              "      (lm_head): RobertaLMHead(\n",
              "        (dense): Linear(in_features=768, out_features=768, bias=True)\n",
              "        (layer_norm): LayerNorm((768,), eps=1e-05, elementwise_affine=True)\n",
              "      )\n",
              "    )\n",
              "    (classification_heads): ModuleDict()\n",
              "  )\n",
              ")"
            ]
          },
          "metadata": {},
          "execution_count": 10
        }
      ],
      "source": [
        "# Load the model in fairseq\n",
        "from fairseq.models.roberta import RobertaModel\n",
        "phoBERT = RobertaModel.from_pretrained('PhoBERT_base_fairseq', checkpoint_file='model.pt')\n",
        "phoBERT.eval()  # disable dropout (or leave in train mode to finetune"
      ]
    },
    {
      "cell_type": "markdown",
      "source": [],
      "metadata": {
        "id": "5O-hRpuOfMYY"
      }
    },
    {
      "cell_type": "markdown",
      "metadata": {
        "id": "Ic6PN1x1Fuka"
      },
      "source": [
        "Ta có thể thấy kiến trúc RoBERTa đã giữa lại 12 block sub-layers là các multi-head attention ở phase Encoder và thêm một linear projection layer ở cuối để tạo ra một embedding cho từ hiện tại."
      ]
    },
    {
      "cell_type": "markdown",
      "metadata": {
        "id": "2vbo_zvbF9pk"
      },
      "source": [
        "**Áp dụng BPE tokenize trong BERT**"
      ]
    },
    {
      "cell_type": "code",
      "execution_count": null,
      "metadata": {
        "id": "96AYiQE7Gi8A",
        "colab": {
          "base_uri": "https://localhost:8080/"
        },
        "outputId": "784709b2-a201-41b3-8808-a57fd1ffa8f6"
      },
      "outputs": [
        {
          "output_type": "stream",
          "name": "stdout",
          "text": [
            "Looking in indexes: https://pypi.org/simple, https://us-python.pkg.dev/colab-wheels/public/simple/\n",
            "Requirement already satisfied: fairseq in /usr/local/lib/python3.10/dist-packages (0.12.2)\n",
            "Requirement already satisfied: cffi in /usr/local/lib/python3.10/dist-packages (from fairseq) (1.15.1)\n",
            "Requirement already satisfied: cython in /usr/local/lib/python3.10/dist-packages (from fairseq) (0.29.34)\n",
            "Requirement already satisfied: hydra-core<1.1,>=1.0.7 in /usr/local/lib/python3.10/dist-packages (from fairseq) (1.0.7)\n",
            "Requirement already satisfied: omegaconf<2.1 in /usr/local/lib/python3.10/dist-packages (from fairseq) (2.0.6)\n",
            "Requirement already satisfied: regex in /usr/local/lib/python3.10/dist-packages (from fairseq) (2022.10.31)\n",
            "Requirement already satisfied: sacrebleu>=1.4.12 in /usr/local/lib/python3.10/dist-packages (from fairseq) (2.3.1)\n",
            "Requirement already satisfied: torch in /usr/local/lib/python3.10/dist-packages (from fairseq) (2.0.1+cu118)\n",
            "Requirement already satisfied: tqdm in /usr/local/lib/python3.10/dist-packages (from fairseq) (4.65.0)\n",
            "Requirement already satisfied: bitarray in /usr/local/lib/python3.10/dist-packages (from fairseq) (2.7.3)\n",
            "Requirement already satisfied: torchaudio>=0.8.0 in /usr/local/lib/python3.10/dist-packages (from fairseq) (2.0.2+cu118)\n",
            "Requirement already satisfied: numpy in /usr/local/lib/python3.10/dist-packages (from fairseq) (1.22.4)\n",
            "Requirement already satisfied: antlr4-python3-runtime==4.8 in /usr/local/lib/python3.10/dist-packages (from hydra-core<1.1,>=1.0.7->fairseq) (4.8)\n",
            "Requirement already satisfied: PyYAML>=5.1.* in /usr/local/lib/python3.10/dist-packages (from omegaconf<2.1->fairseq) (6.0)\n",
            "Requirement already satisfied: typing-extensions in /usr/local/lib/python3.10/dist-packages (from omegaconf<2.1->fairseq) (4.5.0)\n",
            "Requirement already satisfied: portalocker in /usr/local/lib/python3.10/dist-packages (from sacrebleu>=1.4.12->fairseq) (2.7.0)\n",
            "Requirement already satisfied: tabulate>=0.8.9 in /usr/local/lib/python3.10/dist-packages (from sacrebleu>=1.4.12->fairseq) (0.8.10)\n",
            "Requirement already satisfied: colorama in /usr/local/lib/python3.10/dist-packages (from sacrebleu>=1.4.12->fairseq) (0.4.6)\n",
            "Requirement already satisfied: lxml in /usr/local/lib/python3.10/dist-packages (from sacrebleu>=1.4.12->fairseq) (4.9.2)\n",
            "Requirement already satisfied: filelock in /usr/local/lib/python3.10/dist-packages (from torch->fairseq) (3.12.0)\n",
            "Requirement already satisfied: sympy in /usr/local/lib/python3.10/dist-packages (from torch->fairseq) (1.11.1)\n",
            "Requirement already satisfied: networkx in /usr/local/lib/python3.10/dist-packages (from torch->fairseq) (3.1)\n",
            "Requirement already satisfied: jinja2 in /usr/local/lib/python3.10/dist-packages (from torch->fairseq) (3.1.2)\n",
            "Requirement already satisfied: triton==2.0.0 in /usr/local/lib/python3.10/dist-packages (from torch->fairseq) (2.0.0)\n",
            "Requirement already satisfied: cmake in /usr/local/lib/python3.10/dist-packages (from triton==2.0.0->torch->fairseq) (3.25.2)\n",
            "Requirement already satisfied: lit in /usr/local/lib/python3.10/dist-packages (from triton==2.0.0->torch->fairseq) (16.0.5)\n",
            "Requirement already satisfied: pycparser in /usr/local/lib/python3.10/dist-packages (from cffi->fairseq) (2.21)\n",
            "Requirement already satisfied: MarkupSafe>=2.0 in /usr/local/lib/python3.10/dist-packages (from jinja2->torch->fairseq) (2.1.2)\n",
            "Requirement already satisfied: mpmath>=0.19 in /usr/local/lib/python3.10/dist-packages (from sympy->torch->fairseq) (1.3.0)\n",
            "Looking in indexes: https://pypi.org/simple, https://us-python.pkg.dev/colab-wheels/public/simple/\n",
            "Requirement already satisfied: fastBPE in /usr/local/lib/python3.10/dist-packages (0.1.0)\n"
          ]
        }
      ],
      "source": [
        "!pip3 install fairseq\n",
        "!pip3 install fastBPE"
      ]
    },
    {
      "cell_type": "markdown",
      "metadata": {
        "id": "Pe4LlyVcGle4"
      },
      "source": [
        "Load model pretrain `RoBERTa`."
      ]
    },
    {
      "cell_type": "code",
      "execution_count": null,
      "metadata": {
        "id": "02CebeW2GplJ",
        "colab": {
          "base_uri": "https://localhost:8080/"
        },
        "outputId": "7c95b2df-bccf-43ce-f3f3-170342647818"
      },
      "outputs": [
        {
          "output_type": "execute_result",
          "data": {
            "text/plain": [
              "RobertaHubInterface(\n",
              "  (model): RobertaModel(\n",
              "    (encoder): RobertaEncoder(\n",
              "      (sentence_encoder): TransformerEncoder(\n",
              "        (dropout_module): FairseqDropout()\n",
              "        (embed_tokens): Embedding(64001, 768, padding_idx=1)\n",
              "        (embed_positions): LearnedPositionalEmbedding(258, 768, padding_idx=1)\n",
              "        (layernorm_embedding): LayerNorm((768,), eps=1e-05, elementwise_affine=True)\n",
              "        (layers): ModuleList(\n",
              "          (0-11): 12 x TransformerEncoderLayerBase(\n",
              "            (self_attn): MultiheadAttention(\n",
              "              (dropout_module): FairseqDropout()\n",
              "              (k_proj): Linear(in_features=768, out_features=768, bias=True)\n",
              "              (v_proj): Linear(in_features=768, out_features=768, bias=True)\n",
              "              (q_proj): Linear(in_features=768, out_features=768, bias=True)\n",
              "              (out_proj): Linear(in_features=768, out_features=768, bias=True)\n",
              "            )\n",
              "            (self_attn_layer_norm): LayerNorm((768,), eps=1e-05, elementwise_affine=True)\n",
              "            (dropout_module): FairseqDropout()\n",
              "            (activation_dropout_module): FairseqDropout()\n",
              "            (fc1): Linear(in_features=768, out_features=3072, bias=True)\n",
              "            (fc2): Linear(in_features=3072, out_features=768, bias=True)\n",
              "            (final_layer_norm): LayerNorm((768,), eps=1e-05, elementwise_affine=True)\n",
              "          )\n",
              "        )\n",
              "      )\n",
              "      (lm_head): RobertaLMHead(\n",
              "        (dense): Linear(in_features=768, out_features=768, bias=True)\n",
              "        (layer_norm): LayerNorm((768,), eps=1e-05, elementwise_affine=True)\n",
              "      )\n",
              "    )\n",
              "    (classification_heads): ModuleDict()\n",
              "  )\n",
              ")"
            ]
          },
          "metadata": {},
          "execution_count": 12
        }
      ],
      "source": [
        "# Load the model in fairseq\n",
        "from fairseq.models.roberta import RobertaModel\n",
        "phoBERT = RobertaModel.from_pretrained('PhoBERT_base_fairseq', checkpoint_file='model.pt')\n",
        "phoBERT.eval()  # disable dropout (or leave in train mode to finetune"
      ]
    },
    {
      "cell_type": "markdown",
      "metadata": {
        "id": "loemyMm4GuUO"
      },
      "source": [
        "Khai báo bpe tokenizer và thực hiện token."
      ]
    },
    {
      "cell_type": "code",
      "execution_count": null,
      "metadata": {
        "id": "LuwKZO3LGw--",
        "colab": {
          "base_uri": "https://localhost:8080/",
          "height": 70
        },
        "outputId": "a77d7c60-65b8-47ae-d0cd-21edb2f6e605"
      },
      "outputs": [
        {
          "output_type": "stream",
          "name": "stdout",
          "text": [
            "tokens list :  tensor([    0, 11623, 31433,   453, 44334,  2080,  5922,    57,   934,  8181,\n",
            "        31686,  3078,     2])\n"
          ]
        },
        {
          "output_type": "execute_result",
          "data": {
            "text/plain": [
              "'Tôn Ngộ Không phò Đường Tăng đi Tây Trúc thỉnh kinh'"
            ],
            "application/vnd.google.colaboratory.intrinsic+json": {
              "type": "string"
            }
          },
          "metadata": {},
          "execution_count": 13
        }
      ],
      "source": [
        "from fairseq.data.encoders.fastbpe import fastBPE\n",
        "\n",
        "# Khởi tạo Byte Pair Encoding cho PhoBERT\n",
        "class BPE():\n",
        "  bpe_codes = 'PhoBERT_base_fairseq/bpe.codes'\n",
        "\n",
        "args = BPE()\n",
        "phoBERT.bpe = fastBPE(args) #Incorporate the BPE encoder into PhoBERT\n",
        "tokens = phoBERT.encode('Tôn Ngộ Không phò Đường Tăng đi Tây Trúc thỉnh kinh')\n",
        "print('tokens list : ', tokens)\n",
        "# Decode ngược lại thành câu từ chuỗi index token\n",
        "phoBERT.decode(tokens)  # 'Hello world!'"
      ]
    },
    {
      "cell_type": "markdown",
      "metadata": {
        "id": "IJmVa_48Gv6S"
      },
      "source": [
        "Down load package VnCoreNLP để tokenize các câu văn."
      ]
    },
    {
      "cell_type": "code",
      "execution_count": null,
      "metadata": {
        "id": "SNtWrjCeG77a",
        "colab": {
          "base_uri": "https://localhost:8080/"
        },
        "outputId": "e480d07c-0ee3-45da-8d18-0f7c912daca8"
      },
      "outputs": [
        {
          "output_type": "stream",
          "name": "stdout",
          "text": [
            "--2023-05-23 08:15:25--  https://raw.githubusercontent.com/vncorenlp/VnCoreNLP/master/VnCoreNLP-1.1.1.jar\n",
            "Resolving raw.githubusercontent.com (raw.githubusercontent.com)... 185.199.111.133, 185.199.110.133, 185.199.108.133, ...\n",
            "Connecting to raw.githubusercontent.com (raw.githubusercontent.com)|185.199.111.133|:443... connected.\n",
            "HTTP request sent, awaiting response... 200 OK\n",
            "Length: 27412575 (26M) [application/octet-stream]\n",
            "Saving to: ‘VnCoreNLP-1.1.1.jar’\n",
            "\n",
            "VnCoreNLP-1.1.1.jar 100%[===================>]  26.14M  59.1MB/s    in 0.4s    \n",
            "\n",
            "2023-05-23 08:15:28 (59.1 MB/s) - ‘VnCoreNLP-1.1.1.jar’ saved [27412575/27412575]\n",
            "\n",
            "--2023-05-23 08:15:28--  https://raw.githubusercontent.com/vncorenlp/VnCoreNLP/master/models/wordsegmenter/vi-vocab\n",
            "Resolving raw.githubusercontent.com (raw.githubusercontent.com)... 185.199.108.133, 185.199.109.133, 185.199.110.133, ...\n",
            "Connecting to raw.githubusercontent.com (raw.githubusercontent.com)|185.199.108.133|:443... connected.\n",
            "HTTP request sent, awaiting response... 200 OK\n",
            "Length: 526544 (514K) [application/octet-stream]\n",
            "Saving to: ‘vi-vocab’\n",
            "\n",
            "vi-vocab            100%[===================>] 514.20K  --.-KB/s    in 0.01s   \n",
            "\n",
            "2023-05-23 08:15:28 (34.6 MB/s) - ‘vi-vocab’ saved [526544/526544]\n",
            "\n",
            "--2023-05-23 08:15:28--  https://raw.githubusercontent.com/vncorenlp/VnCoreNLP/master/models/wordsegmenter/wordsegmenter.rdr\n",
            "Resolving raw.githubusercontent.com (raw.githubusercontent.com)... 185.199.108.133, 185.199.109.133, 185.199.110.133, ...\n",
            "Connecting to raw.githubusercontent.com (raw.githubusercontent.com)|185.199.108.133|:443... connected.\n",
            "HTTP request sent, awaiting response... 200 OK\n",
            "Length: 128508 (125K) [text/plain]\n",
            "Saving to: ‘wordsegmenter.rdr’\n",
            "\n",
            "wordsegmenter.rdr   100%[===================>] 125.50K  --.-KB/s    in 0.006s  \n",
            "\n",
            "2023-05-23 08:15:29 (21.2 MB/s) - ‘wordsegmenter.rdr’ saved [128508/128508]\n",
            "\n"
          ]
        }
      ],
      "source": [
        "\n",
        "!mkdir -p vncorenlp/models/wordsegmenter\n",
        "!wget https://raw.githubusercontent.com/vncorenlp/VnCoreNLP/master/VnCoreNLP-1.1.1.jar\n",
        "!wget https://raw.githubusercontent.com/vncorenlp/VnCoreNLP/master/models/wordsegmenter/vi-vocab\n",
        "!wget https://raw.githubusercontent.com/vncorenlp/VnCoreNLP/master/models/wordsegmenter/wordsegmenter.rdr\n",
        "!mv VnCoreNLP-1.1.1.jar vncorenlp/ \n",
        "!mv vi-vocab vncorenlp/models/wordsegmenter/\n",
        "!mv wordsegmenter.rdr vncorenlp/models/wordsegmenter/"
      ]
    },
    {
      "cell_type": "markdown",
      "metadata": {
        "id": "HWv4Y67dHhM_"
      },
      "source": [
        "Gỉa sử chúng ta có câu gốc là `Tôn Ngộ Không phò Đường Tăng đi thỉnh kinh tại Tây Trúc`. Từ được ẩn đi trong câu là `phò` sẽ được thay thế bằng token `<mask>`."
      ]
    },
    {
      "cell_type": "code",
      "execution_count": null,
      "metadata": {
        "id": "XvyS1c2sHh_D",
        "colab": {
          "base_uri": "https://localhost:8080/"
        },
        "outputId": "fe4f38b3-08cb-4d2d-e48b-a65400ceb846"
      },
      "outputs": [
        {
          "output_type": "stream",
          "name": "stdout",
          "text": [
            "text_masked_tok: \n",
            " Tôn_Ngộ_Không  <mask> Đường Tăng đi thỉnh_kinh tại Tây_Trúc\n"
          ]
        }
      ],
      "source": [
        "from vncorenlp import VnCoreNLP\n",
        "rdrsegmenter = VnCoreNLP(\"vncorenlp/VnCoreNLP-1.1.1.jar\", annotators=\"wseg\", max_heap_size='-Xmx500m') \n",
        "\n",
        "text = 'Tôn Ngộ Không phò Đường Tăng đi thỉnh kinh tại Tây Trúc'\n",
        "text_masked = 'Học sinh được  <mask> do dịch covid-19'\n",
        "# Tokenize câu gốc và thay từ phò bằng <mask>\n",
        "words = rdrsegmenter.tokenize(text)[0]\n",
        "for i, token in enumerate(words):\n",
        "  if token == 'phò':\n",
        "    words[i] = ' <mask>'\n",
        "text_masked_tok = ' '.join(words)\n",
        "print('text_masked_tok: \\n', text_masked_tok)"
      ]
    },
    {
      "cell_type": "markdown",
      "metadata": {
        "id": "BpfdmhujHkag"
      },
      "source": [
        "Tìm ra top 10 từ thích hợp nhất cho vị trí `<mask>` tại câu trên."
      ]
    },
    {
      "cell_type": "markdown",
      "metadata": {
        "id": "RLPbdhtdIMPK"
      },
      "source": []
    },
    {
      "cell_type": "code",
      "execution_count": null,
      "metadata": {
        "id": "yvbV1GtKHk59",
        "colab": {
          "base_uri": "https://localhost:8080/"
        },
        "outputId": "9ab1a0e9-1c80-472d-a5bc-98ff1c8d8171"
      },
      "outputs": [
        {
          "output_type": "stream",
          "name": "stdout",
          "text": [
            "Total probability:  0.8735206946730614\n",
            "Input sequence:  Tôn_Ngộ_Không  <mask> Đường Tăng đi thỉnh_kinh tại Tây_Trúc\n",
            "Top 10 in mask: \n",
            "Tôn_Ngộ_Không và Đường Tăng đi thỉnh_kinh tại Tây_Trúc\n",
            "Tôn_Ngộ_Không đưa Đường Tăng đi thỉnh_kinh tại Tây_Trúc\n",
            "Tôn_Ngộ_Không cõng Đường Tăng đi thỉnh_kinh tại Tây_Trúc\n",
            "Tôn_Ngộ_Không hộ_tống Đường Tăng đi thỉnh_kinh tại Tây_Trúc\n",
            "Tôn_Ngộ_Không cùng Đường Tăng đi thỉnh_kinh tại Tây_Trúc\n",
            "Tôn_Ngộ_Không chở Đường Tăng đi thỉnh_kinh tại Tây_Trúc\n",
            "Tôn_Ngộ_Không theo Đường Tăng đi thỉnh_kinh tại Tây_Trúc\n",
            "Tôn_Ngộ_Không dẫn Đường Tăng đi thỉnh_kinh tại Tây_Trúc\n",
            "Tôn_Ngộ_Không , Đường Tăng đi thỉnh_kinh tại Tây_Trúc\n",
            "Tôn_Ngộ_Không tháp_tùng Đường Tăng đi thỉnh_kinh tại Tây_Trúc\n"
          ]
        }
      ],
      "source": [
        "from fairseq.data.encoders.fastbpe import fastBPE  \n",
        "from fairseq import options  \n",
        "import numpy as np\n",
        "\n",
        "# Khởi tạo Byte Pair Encoding cho PhoBERT\n",
        "class BPE():\n",
        "  bpe_codes = 'PhoBERT_base_fairseq/bpe.codes'\n",
        "args = BPE()\n",
        "phoBERT.bpe = fastBPE(args) #Incorporate the BPE encoder into PhoBERT\n",
        "\n",
        "# Filling marks  \n",
        "topk_filled_outputs = phoBERT.fill_mask(text_masked_tok, topk=10) \n",
        "topk_probs = [item[1] for item in topk_filled_outputs]\n",
        "print('Total probability: ', np.sum(topk_probs))\n",
        "print('Input sequence: ', text_masked_tok)\n",
        "print('Top 10 in mask: ')\n",
        "for i, output in enumerate(topk_filled_outputs): \n",
        "  print(output[0])"
      ]
    },
    {
      "cell_type": "markdown",
      "metadata": {
        "id": "7Wmrmj1GHsTA"
      },
      "source": [
        "## 7. Extract feature cho các từ\n",
        "\n",
        "Chúng ta có thể tìm ra được các véc tơ embedding cho từng từ trong câu từ mô hình BERT như sau:"
      ]
    },
    {
      "cell_type": "code",
      "execution_count": null,
      "metadata": {
        "id": "FsNPoeCSHqCa"
      },
      "outputs": [],
      "source": [
        "#from fairseq.data.encoders.fastbpe import fastBPE\n",
        "\n",
        "# Khởi tạo Byte Pair Encoding cho PhoBERT\n",
        "#class BPE():\n",
        "  #bpe_codes = 'PhoBERT_base_fairseq/bpe.codes'\n",
        "\n",
        "#args = BPE()\n",
        "#phoBERT.bpe = fastBPE(args) #Incorporate the BPE encoder into PhoBERT\n",
        "#doc = phoBERT.extract_features_aligned_to_words('học_sinh cấp 3 được đến trường sau nghỉ dịch covid')\n",
        "\n",
        "#for tok in doc:\n",
        " #   print('{:10}{} (...) {}'.format(str(tok), tok.vector[:5], tok.vector.size()))"
      ]
    },
    {
      "cell_type": "markdown",
      "metadata": {
        "id": "UXj__KAnIN5L"
      },
      "source": [
        "## 8. Bài toán classification"
      ]
    },
    {
      "cell_type": "markdown",
      "metadata": {
        "id": "P6YIYujoIRw0"
      },
      "source": [
        "### 8.2. Dữ liệu\n",
        "\n",
        "sử dụng dữ liệu [VNTC](https://github.com/duyvuleo/VNTC.git) với các bài báo đã được sắp xếp theo 10 topics. Bộ dữ liệu bao gồm 33 nghìn bài báo trên tập train và 50 nghìn bài báo trên tập test có phân bố số lượng theo topics như sau:\n",
        "\n",
        "![](https://imgur.com/1lDTdC1.png)"
      ]
    },
    {
      "cell_type": "markdown",
      "metadata": {
        "id": "t_NPXfX2IYkh"
      },
      "source": [
        "8.2.1. Đọc và lưu dữ liệu"
      ]
    },
    {
      "cell_type": "code",
      "execution_count": null,
      "metadata": {
        "id": "0B4CIrquLfUI",
        "colab": {
          "base_uri": "https://localhost:8080/"
        },
        "outputId": "1caa40d8-9db0-4d40-ba34-52a4c84674dc"
      },
      "outputs": [
        {
          "output_type": "stream",
          "name": "stdout",
          "text": [
            "chmod: cannot access '/content/gdrive/MyDrive/Colab Notebooks/PhoBERT_VNTC_4/VNTC/.git/hooks/post-checkout': No such file or directory\n"
          ]
        }
      ],
      "source": [
        "!chmod +x /content/gdrive/MyDrive/Colab\\ Notebooks/PhoBERT_VNTC_4/VNTC/.git/hooks/post-checkout\n"
      ]
    },
    {
      "cell_type": "code",
      "execution_count": null,
      "metadata": {
        "id": "iU-VqmAYIcP_",
        "colab": {
          "base_uri": "https://localhost:8080/"
        },
        "outputId": "ffa74604-57b4-487d-f0b6-1bad8fbfbf34"
      },
      "outputs": [
        {
          "output_type": "stream",
          "name": "stdout",
          "text": [
            "Cloning into 'VNTC'...\n",
            "remote: Enumerating objects: 39, done.\u001b[K\n",
            "remote: Total 39 (delta 0), reused 0 (delta 0), pack-reused 39\u001b[K\n",
            "Unpacking objects: 100% (39/39), 160.90 MiB | 5.51 MiB/s, done.\n",
            "Updating files: 100% (15/15), done.\n",
            "Filtering content: 100% (2/2), 168.95 MiB | 19.76 MiB/s, done.\n",
            "fatal: cannot exec '/content/gdrive/MyDrive/Colab Notebooks/PhoBERT_VNTC_4/VNTC/.git/hooks/post-checkout': Permission denied\n",
            "Stats.txt  Test_Full.rar  Train_Full.rar\n"
          ]
        }
      ],
      "source": [
        "!git clone https://github.com/duyvuleo/VNTC.git\n",
        "!ls VNTC/Data/10Topics/Ver1.1"
      ]
    },
    {
      "cell_type": "markdown",
      "metadata": {
        "id": "VHWU-45D3-FF"
      },
      "source": [
        "Extract file dataset"
      ]
    },
    {
      "cell_type": "code",
      "execution_count": null,
      "metadata": {
        "id": "BpCcXOiWzUfb",
        "colab": {
          "base_uri": "https://localhost:8080/",
          "height": 160
        },
        "outputId": "f8868f6c-9ea7-41f9-f196-7b71b03c1afd"
      },
      "outputs": [
        {
          "output_type": "stream",
          "name": "stdout",
          "text": [
            "Looking in indexes: https://pypi.org/simple, https://us-python.pkg.dev/colab-wheels/public/simple/\n",
            "Requirement already satisfied: patool in /usr/local/lib/python3.10/dist-packages (1.12)\n",
            "patool: Extracting /content/gdrive/MyDrive/Colab Notebooks/PhoBERT_VNTC_4/VNTC/Data/10Topics/Ver1.1/Train_Full.rar ...\n",
            "patool: running /usr/bin/unrar x -- \"/content/gdrive/MyDrive/Colab Notebooks/PhoBERT_VNTC_4/VNTC/Data/10Topics/Ver1.1/Train_Full.rar\"\n",
            "patool:     with cwd='/content/gdrive/MyDrive/Colab Notebooks/PhoBERT_VNTC_4/VNTC/Data/10Topics/Ver1.1'\n",
            "patool: ... /content/gdrive/MyDrive/Colab Notebooks/PhoBERT_VNTC_4/VNTC/Data/10Topics/Ver1.1/Train_Full.rar extracted to `/content/gdrive/MyDrive/Colab Notebooks/PhoBERT_VNTC_4/VNTC/Data/10Topics/Ver1.1'.\n"
          ]
        },
        {
          "output_type": "execute_result",
          "data": {
            "text/plain": [
              "'/content/gdrive/MyDrive/Colab Notebooks/PhoBERT_VNTC_4/VNTC/Data/10Topics/Ver1.1'"
            ],
            "application/vnd.google.colaboratory.intrinsic+json": {
              "type": "string"
            }
          },
          "metadata": {},
          "execution_count": 20
        }
      ],
      "source": [
        "\n",
        "!pip install patool\n",
        "import patoolib\n",
        "# Specify the path to the RAR file\n",
        "rar_file_path = '/content/gdrive/MyDrive/Colab Notebooks/PhoBERT_VNTC_4/VNTC/Data/10Topics/Ver1.1/Train_Full.rar'\n",
        "\n",
        "# Specify the destination directory for extraction\n",
        "destination_dir = '/content/gdrive/MyDrive/Colab Notebooks/PhoBERT_VNTC_4/VNTC/Data/10Topics/Ver1.1'\n",
        "\n",
        "# Extract the RAR file\n",
        "patoolib.extract_archive(rar_file_path, outdir=destination_dir)"
      ]
    },
    {
      "cell_type": "code",
      "execution_count": null,
      "metadata": {
        "id": "BAy2qZiT5gvs",
        "colab": {
          "base_uri": "https://localhost:8080/",
          "height": 125
        },
        "outputId": "99606770-c134-46cf-ed6e-e86745fa0325"
      },
      "outputs": [
        {
          "output_type": "stream",
          "name": "stdout",
          "text": [
            "patool: Extracting /content/gdrive/MyDrive/Colab Notebooks/PhoBERT_VNTC_4/VNTC/Data/10Topics/Ver1.1/Test_Full.rar ...\n",
            "patool: running /usr/bin/unrar x -- \"/content/gdrive/MyDrive/Colab Notebooks/PhoBERT_VNTC_4/VNTC/Data/10Topics/Ver1.1/Test_Full.rar\"\n",
            "patool:     with cwd='/content/gdrive/MyDrive/Colab Notebooks/PhoBERT_VNTC_4/VNTC/Data/10Topics/Ver1.1'\n",
            "patool: ... /content/gdrive/MyDrive/Colab Notebooks/PhoBERT_VNTC_4/VNTC/Data/10Topics/Ver1.1/Test_Full.rar extracted to `/content/gdrive/MyDrive/Colab Notebooks/PhoBERT_VNTC_4/VNTC/Data/10Topics/Ver1.1'.\n"
          ]
        },
        {
          "output_type": "execute_result",
          "data": {
            "text/plain": [
              "'/content/gdrive/MyDrive/Colab Notebooks/PhoBERT_VNTC_4/VNTC/Data/10Topics/Ver1.1'"
            ],
            "application/vnd.google.colaboratory.intrinsic+json": {
              "type": "string"
            }
          },
          "metadata": {},
          "execution_count": 21
        }
      ],
      "source": [
        "# Specify the path to the RAR file\n",
        "rar_file_path = '/content/gdrive/MyDrive/Colab Notebooks/PhoBERT_VNTC_4/VNTC/Data/10Topics/Ver1.1/Test_Full.rar'\n",
        "\n",
        "# Specify the destination directory for extraction\n",
        "destination_dir = '/content/gdrive/MyDrive/Colab Notebooks/PhoBERT_VNTC_4/VNTC/Data/10Topics/Ver1.1'\n",
        "\n",
        "# Extract the RAR file\n",
        "patoolib.extract_archive(rar_file_path, outdir=destination_dir)"
      ]
    },
    {
      "cell_type": "markdown",
      "metadata": {
        "id": "AS2FYMBnIbwc"
      },
      "source": [
        "Sau khi đã download dữ liệu về, chúng ta sẽ đọc và lưu các bài báo vào những list chứa nội dung và nhãn tương ứng theo 2 folders train và test."
      ]
    },
    {
      "cell_type": "code",
      "execution_count": null,
      "metadata": {
        "id": "uNnrjdQJY6Wq",
        "colab": {
          "base_uri": "https://localhost:8080/"
        },
        "outputId": "6bcd5f87-2d8a-4228-b977-dd8fb2c7fda3"
      },
      "outputs": [
        {
          "output_type": "stream",
          "name": "stderr",
          "text": [
            "100%|██████████| 33759/33759 [00:56<00:00, 601.09it/s]\n",
            "100%|██████████| 33759/33759 [00:41<00:00, 817.85it/s]\n"
          ]
        }
      ],
      "source": [
        "import glob2\n",
        "from tqdm import tqdm\n",
        "\n",
        "train_path = '/content/gdrive/MyDrive/Colab Notebooks/PhoBERT_VNTC_4/VNTC/Data/10Topics/Ver1.1/Train_Full/*/*.txt'\n",
        "test_path = '/content/gdrive/MyDrive/Colab Notebooks/PhoBERT_VNTC_4/VNTC/Data/10Topics/Ver1.1/Test_Full/*/*.txt'\n",
        "\n",
        "# Hàm đọc file txt\n",
        "def read_txt(path):\n",
        "  with open(path, 'r', encoding='utf-16') as f:\n",
        "    data = f.read()\n",
        "  return data\n",
        "\n",
        "# Hàm tạo dữ liệu huấn luyện cho tập train và test\n",
        "def make_data(path):\n",
        "  texts = []\n",
        "  labels = []\n",
        "  for file_path in tqdm(glob2.glob(train_path)):\n",
        "    try:\n",
        "      content = read_txt(file_path)\n",
        "      label = file_path.split('/')[11]\n",
        "      texts.append(content)\n",
        "      labels.append(label)\n",
        "    except:\n",
        "      next\n",
        "  return texts, labels\n",
        "\n",
        "text_train, label_train = make_data(train_path)\n",
        "text_test, label_test = make_data(test_path)"
      ]
    },
    {
      "cell_type": "markdown",
      "metadata": {
        "id": "oqekoMSpIoy7"
      },
      "source": [
        "Tạo các hàm lưu trữ lại các list nội dung và nhãn và load lại cho lượt huấn luyện sau."
      ]
    },
    {
      "cell_type": "code",
      "execution_count": null,
      "metadata": {
        "id": "hRfUAZ8SIqAK"
      },
      "outputs": [],
      "source": [
        "import pickle\n",
        "\n",
        "def _save_pkl(path, obj):\n",
        "  with open(path, 'wb') as f:\n",
        "    pickle.dump(obj, f)\n",
        "\n"
      ]
    },
    {
      "cell_type": "code",
      "execution_count": null,
      "metadata": {
        "id": "apfxtXJ--6Ih"
      },
      "outputs": [],
      "source": [
        "def _load_pkl(path):\n",
        "  with open(path, 'rb') as f:\n",
        "    obj = pickle.load(f)\n",
        "  return obj\n"
      ]
    },
    {
      "cell_type": "code",
      "execution_count": null,
      "metadata": {
        "id": "znzItcjM-8Py"
      },
      "outputs": [],
      "source": [
        "# Lưu lại các files\n",
        "_save_pkl('text_train.pkl', text_train)\n",
        "_save_pkl('label_train.pkl', label_train)\n",
        "_save_pkl('text_test.pkl', text_test)\n",
        "_save_pkl('label_test.pkl', label_test)"
      ]
    },
    {
      "cell_type": "code",
      "execution_count": null,
      "metadata": {
        "id": "7h0Pmup6IrJ_",
        "colab": {
          "base_uri": "https://localhost:8080/"
        },
        "outputId": "d2afc5b4-6308-447c-8143-34e581930a84"
      },
      "outputs": [
        {
          "output_type": "stream",
          "name": "stdout",
          "text": [
            "text content:\n",
            " Các nhà khoa học nói về ô nhiễm tại hố chôn gà dịch \n",
            "Trong những ngày qua, có nhiều ý kiến phản ánh của người dân về tình trạng ô nhiễm tại các điểm chôn gà chết của TP HCM. Ở các hố chôn, nước dịch trào ra, thoát khí nặng mùi, nhất là vào những hôm trời nóng bức. VnExpress đã trao đổi với một số nhà khoa học và quản lý môi trường về vấn đề này.\n",
            "Giáo sư, Tiến sĩ Tưởng Thị Hội, giảng viên Viện Khoa học và công nghệ Môi trường, ĐH Bách Khoa Hà Nội: Động vật khi chôn sâu trong lòng đất sẽ bị phân hủy dưới dạng hiếu khí và yếm khí, tạo ra những hợp chất dạng khác nhau như thể lỏng hoặc thể khí. Các dịch lỏng phát sinh có thể ngấm vào đất và gây ô nhiễm nguồn nước. Điều này trước kia cũng đã xảy ra ở nghĩa trang Văn Điển, Hà Nội. Các khí tạo thành trong quá trình phân hủy chất hữu cơ như CH4, NH3, H2S, CO2 thoát ra ngoài môi trường sẽ tạo ra mùi hôi, gây độc hại đến môi trường sống.\n",
            "Giáo sư Nguyễn Công Mẫn, Phó chủ tịch Viện Địa kỹ thuật thuộc Liên hiệp các Hội khoa học kỹ thuật Việt Nam: Các chất hữu cơ khi phân hủy trong các bãi chôn lấp sẽ tạo ra nước rác trong đó có chứa các hợp chất hữu cơ, canxi, xương& Đặc biệt, đối với các hố chôn gà chết do dịch thì còn chứa cả các vi trùng gây bệnh. Do vậy, cần phải có biện pháp thích hợp để xử lý. Thông thường, các hố chôn lấp phải có đường thoát nước rác riêng dẫn ra nơi xử lý, nếu không chúng sẽ ngấm vào trong đất, phát tán ra môi trường xung quanh. Khả năng nguy cơ gây ô nhiễm nước ngầm tuỳ thuộc vào tính chất địa tầng ở từng nơi. Điều này phải kiểm tra và xét nghiệm trên thực tế mới có kết quả chính xác.\n",
            "Bà Đoàn Thị Tới, Trưởng phòng Quản lý môi trường, Sở Tài nguyên  Môi trường TP HCM: Chúng tôi cùng với Trung tâm Y tế dự phòng đã tiến hành lấy mẫu tại một số điểm chôn gà để có kết quả chính xác về nguy cơ ô nhiễm nước. Theo đúng kỹ thuật thì sau khi lấy mẫu 5 ngày mới bắt đầu xét nghiệm và 7 ngày sau mới có kết quả. Nói chung, các hố chôn đều tại vị trí cao, khô ráo, chôn theo đúng quy trình kỹ thuật nên khả năng ô nhiễm là không lớn. Chỉ có tại khu vực huyện Nhà Bè có là vùng thấp, ngập nước nên cần phải có thời gian để có kết luận chính xác về sự ô nhiễm nước mặt. Còn các giếng khoan tại đây có độ sâu khoảng 100 m trong khi hố chôn chỉ có 1-2 m nên nguy cơ ô nhiễm nước ngầm rất khó xảy ra. Về môi trường đất, do thời gian chôn chưa lâu nên chưa phát hiện được dấu hiệu ô nhiễm. Những trường hợp người dân phản ánh về tình trạng mùi xú uế phát sinh từ các hố chôn, đây là điều bình thường trong quá trình phân huỷ chất hữu cơ. Chỉ trong một thời gian ngắn là sẽ không còn hiện tượng này nữa. Hiện tại, chúng tôi cùng với Trung tâm Y tế dự phòng chỉ tiến hành đắp thêm đất, rải thêm vôi để giảm ô nhiễm.\n",
            "Giáo sư Hoàng Thuỷ Long trả lời trực tuyến về dịch cúm A(30/01/2004)\n",
            "Một chủ trại gà ở Long An chết vì bệnh cúm(30/01/2004)\n",
            "Các trường bán trú 'tẩy chay' thịt gia cầm(29/01/2004)\n",
            "Chim cảnh vẫn được mua bán tại TP HCM(29/01/2004)\n",
            "Phát hiện thêm 15 ổ dịch cúm gà mới(29/01/2004)\n",
            "\n",
            "\n",
            "label:\n",
            " Chinh tri Xa hoi\n"
          ]
        }
      ],
      "source": [
        "print('text content:\\n', text_train[0])\n",
        "print('label:\\n', label_train[0])"
      ]
    },
    {
      "cell_type": "markdown",
      "metadata": {
        "id": "CuwXUwc-JQWS"
      },
      "source": [
        "#### 8.2.2. Tokenize nội dung\n",
        "\n",
        "Tiếp theo ta sẽ tokenize các câu văn sang chuỗi index và padding câu văn về cùng một độ dài."
      ]
    },
    {
      "cell_type": "code",
      "execution_count": null,
      "metadata": {
        "id": "XkyGDtoAImBh"
      },
      "outputs": [],
      "source": [
        "max_sequence_length = 500\n",
        "\n",
        "def convert_lines(lines, vocab, bpe):\n",
        "  '''\n",
        "  lines: list các văn bản input\n",
        "  vocab: từ điển dùng để encoding subwords\n",
        "  bpe: \n",
        "  '''\n",
        "  # Khởi tạo ma trận output\n",
        "  outputs = np.zeros((len(lines), max_sequence_length)) # --> shape (number_lines, max_seq_len)\n",
        "  # Index của các token cls (đầu câu), eos (cuối câu), padding (padding token)\n",
        "  cls_id = 0\n",
        "  eos_id = 2\n",
        "  pad_id = 1\n",
        "\n",
        "  for idx, row in tqdm(enumerate(lines), total=len(lines)): \n",
        "    # Mã hóa subwords theo byte pair encoding(bpe)\n",
        "    subwords = bpe.encode('<s> '+ row +' </s>')\n",
        "    input_ids = vocab.encode_line(subwords, append_eos=False, add_if_not_exist=False).long().tolist()\n",
        "    # Truncate input nếu độ dài vượt quá max_seq_len\n",
        "    if len(input_ids) > max_sequence_length: \n",
        "      input_ids = input_ids[:max_sequence_length] \n",
        "      input_ids[-1] = eos_id\n",
        "    else:\n",
        "      # Padding nếu độ dài câu chưa bằng max_seq_len\n",
        "      input_ids = input_ids + [pad_id, ]*(max_sequence_length - len(input_ids))\n",
        "    \n",
        "    outputs[idx,:] = np.array(input_ids)\n",
        "  return outputs"
      ]
    },
    {
      "cell_type": "markdown",
      "metadata": {
        "id": "kTC8LVPKIZJj"
      },
      "source": [
        "### 8.3. Tokenize Input và output\n",
        "\n",
        "* Chuẩn bị X input: Tokenize nội dung các văn bản sang chuỗi indices.\n",
        "\n",
        "* Chuẩn bị y output: Encoding các label output thành indices đánh dấu số thứ tự của văn bản."
      ]
    },
    {
      "cell_type": "code",
      "execution_count": null,
      "metadata": {
        "id": "8HG9cds-j8is"
      },
      "outputs": [],
      "source": [
        "from tqdm import tqdm\n",
        "import torch\n",
        "\n",
        "max_sequence_length = 256\n",
        "def convert_lines(lines, vocab, bpe):\n",
        "  '''\n",
        "  lines: list các văn bản input\n",
        "  vocab: từ điển dùng để encoding subwords\n",
        "  bpe: \n",
        "  '''\n",
        "  # Khởi tạo ma trận output\n",
        "  outputs = np.zeros((len(lines), max_sequence_length), dtype=np.int32) # --> shape (number_lines, max_seq_len)\n",
        "  # Index của các token cls (đầu câu), eos (cuối câu), padding (padding token)\n",
        "  cls_id = 0\n",
        "  eos_id = 2\n",
        "  pad_id = 1\n",
        "\n",
        "  for idx, row in tqdm(enumerate(lines), total=len(lines)): \n",
        "    # Mã hóa subwords theo byte pair encoding(bpe)\n",
        "    subwords = bpe.encode('<s> '+ row +' </s>')\n",
        "    input_ids = vocab.encode_line(subwords, append_eos=False, add_if_not_exist=False).long().tolist()\n",
        "    # Truncate input nếu độ dài vượt quá max_seq_len\n",
        "    if len(input_ids) > max_sequence_length: \n",
        "      input_ids = input_ids[:max_sequence_length] \n",
        "      input_ids[-1] = eos_id\n",
        "    else:\n",
        "      # Padding nếu độ dài câu chưa bằng max_seq_len\n",
        "      input_ids = input_ids + [pad_id, ]*(max_sequence_length - len(input_ids))\n",
        "    \n",
        "    outputs[idx,:] = np.array(input_ids)\n",
        "  return outputs\n"
      ]
    },
    {
      "cell_type": "code",
      "execution_count": null,
      "metadata": {
        "id": "jad3MM7ilnUN"
      },
      "outputs": [],
      "source": [
        "from fairseq.data import Dictionary"
      ]
    },
    {
      "cell_type": "code",
      "execution_count": null,
      "metadata": {
        "id": "JWXKXBUqsFHB"
      },
      "outputs": [],
      "source": [
        "\n",
        "# Load the dictionary  \n",
        "vocab = Dictionary()\n",
        "vocab.add_from_file(\"PhoBERT_base_transformers/dict.txt\")\n"
      ]
    },
    {
      "cell_type": "code",
      "execution_count": null,
      "metadata": {
        "id": "hOA4ogLuofpQ",
        "colab": {
          "base_uri": "https://localhost:8080/"
        },
        "outputId": "adb6c669-99fd-4011-a6d8-96edae694ec6"
      },
      "outputs": [
        {
          "output_type": "stream",
          "name": "stderr",
          "text": [
            "100%|██████████| 2/2 [00:00<00:00, 691.39it/s]"
          ]
        },
        {
          "output_type": "stream",
          "name": "stdout",
          "text": [
            "x1 tensor encode: [63117  1302   884  5958    11   915   222   537   933    39], shape: 256\n",
            "x1 tensor decode:  <s> Học_sinh được nghỉ học bắt dầu từ tháng 3 để tránh dịch covid-19 </s> <pad> <pad> <pad> <pad> <pad>\n"
          ]
        },
        {
          "output_type": "stream",
          "name": "stderr",
          "text": [
            "\n"
          ]
        }
      ],
      "source": [
        "\n",
        "# Test encode lines\n",
        "lines = ['Học_sinh được nghỉ học bắt dầu từ tháng 3 để tránh dịch covid-19', 'số lượng ca nhiễm bệnh đã giảm bắt đầu từ tháng 5 nhờ biện pháp mạnh tay']\n",
        "[x1, x2] = convert_lines(lines, vocab, phoBERT.bpe)\n",
        "print('x1 tensor encode: {}, shape: {}'.format(x1[:10], x1.size))\n",
        "print('x1 tensor decode: ', phoBERT.decode(torch.tensor(x1))[:103])"
      ]
    },
    {
      "cell_type": "markdown",
      "metadata": {
        "id": "VwrQRavKsudw"
      },
      "source": [
        "Như vậy ta thấy rằng các câu văn đã được encode về token index. Từ token index có thể decode ngược trở lại thành câu input sau khi đã thêm các token đặc biệt đánh dấu vị trí bắt dầu: `<s>`, kết thúc: `</s>` câu và các vị trí nằm ngoài câu: `<pad>`. Ta sẽ token toàn bộ câu input sang index như sau:"
      ]
    },
    {
      "cell_type": "code",
      "execution_count": null,
      "metadata": {
        "id": "o-ua7CMusvFs",
        "colab": {
          "base_uri": "https://localhost:8080/"
        },
        "outputId": "8140d2fb-2e9c-4c0c-aecd-90556336c915"
      },
      "outputs": [
        {
          "output_type": "stream",
          "name": "stderr",
          "text": [
            "100%|██████████| 33759/33759 [02:45<00:00, 204.19it/s]"
          ]
        },
        {
          "output_type": "stream",
          "name": "stdout",
          "text": [
            "X shape:  (33759, 256)\n"
          ]
        },
        {
          "output_type": "stream",
          "name": "stderr",
          "text": [
            "\n"
          ]
        }
      ],
      "source": [
        "X = convert_lines(text_train, vocab, phoBERT.bpe)\n",
        "print('X shape: ', X.shape)"
      ]
    },
    {
      "cell_type": "markdown",
      "metadata": {
        "id": "Mf4aCsSLszrP"
      },
      "source": [
        "Sau cùng ta thu được các chuỗi index có kích thước là 256, bằng với kích thước của các câu sau khi đã padding. Tiếp theo ta tạo output y bằng index cho các nhãn của câu."
      ]
    },
    {
      "cell_type": "code",
      "execution_count": null,
      "metadata": {
        "id": "spUJhkMNsyfP",
        "colab": {
          "base_uri": "https://localhost:8080/"
        },
        "outputId": "fb62e800-cfb4-49d3-97f5-014ecd247d59"
      },
      "outputs": [
        {
          "output_type": "stream",
          "name": "stdout",
          "text": [
            "['Chinh tri Xa hoi' 'Doi song' 'Khoa hoc' 'Kinh doanh' 'Phap luat'\n",
            " 'Suc khoe' 'The gioi' 'The thao' 'Van hoa' 'Vi tinh']\n",
            "Top 5 classes indices:  [0 0 0 0 0]\n"
          ]
        }
      ],
      "source": [
        "from sklearn.preprocessing import LabelEncoder\n",
        "lb = LabelEncoder()\n",
        "lb.fit(label_train)\n",
        "y = lb.fit_transform(label_train)\n",
        "print(lb.classes_)\n",
        "print('Top 5 classes indices: ', y[:5])"
      ]
    },
    {
      "cell_type": "markdown",
      "metadata": {
        "id": "swYHwZA_s4aq"
      },
      "source": [
        "Lưu lại dữ liệu $\\mathbf{X}$ và $\\mathbf{y}$"
      ]
    },
    {
      "cell_type": "code",
      "execution_count": null,
      "metadata": {
        "id": "NcjvnT8Ts3WH",
        "colab": {
          "base_uri": "https://localhost:8080/"
        },
        "outputId": "4cdb61af-123d-4a20-b901-9e8a9dbfd1b6"
      },
      "outputs": [
        {
          "output_type": "stream",
          "name": "stdout",
          "text": [
            "length of X:  33759\n",
            "length of y:  33759\n"
          ]
        }
      ],
      "source": [
        "# Save dữ liệu\n",
        "_save_pkl('PhoBERT_pretrain/X1.pkl', X)\n",
        "_save_pkl('PhoBERT_pretrain/y1.pkl', y)\n",
        "_save_pkl('PhoBERT_pretrain/labelEncoder1.pkl', lb)\n",
        "\n",
        "# Load lại dữ liệu\n",
        "X = _load_pkl('PhoBERT_pretrain/X1.pkl')\n",
        "y = _load_pkl('PhoBERT_pretrain/y1.pkl')\n",
        "\n",
        "print('length of X: ', len(X))\n",
        "print('length of y: ', len(y))"
      ]
    },
    {
      "cell_type": "markdown",
      "metadata": {
        "id": "S-BOhZVss7ju"
      },
      "source": [
        "### 8.4. Load model BERT"
      ]
    },
    {
      "cell_type": "code",
      "execution_count": null,
      "metadata": {
        "id": "mTsE43bUs8HQ",
        "colab": {
          "base_uri": "https://localhost:8080/"
        },
        "outputId": "c5b2c839-8428-4583-f757-aad3ae764a3c"
      },
      "outputs": [
        {
          "output_type": "execute_result",
          "data": {
            "text/plain": [
              "tensor([[-2.2793, -2.2856, -2.0900, -2.0557, -2.4173, -2.4040, -2.3832, -2.4373,\n",
              "         -2.3396, -2.4223]], grad_fn=<LogSoftmaxBackward0>)"
            ]
          },
          "metadata": {},
          "execution_count": 35
        }
      ],
      "source": [
        "# Load the model in fairseq\n",
        "from fairseq.models.roberta import RobertaModel\n",
        "from fairseq.data.encoders.fastbpe import fastBPE\n",
        "from fairseq.data import Dictionary\n",
        "\n",
        "phoBERT_cls = RobertaModel.from_pretrained('PhoBERT_base_fairseq', checkpoint_file='model.pt')\n",
        "phoBERT_cls.eval()  # disable dropout (or leave in train mode to finetune\n",
        "\n",
        "# Load BPE\n",
        "class BPE():\n",
        "  bpe_codes = 'PhoBERT_base_fairseq/bpe.codes'\n",
        "\n",
        "args = BPE()\n",
        "phoBERT_cls.bpe = fastBPE(args) #Incorporate the BPE encoder into PhoBERT\n",
        "\n",
        "# Add header cho classification với số lượng classes = 10\n",
        "phoBERT_cls.register_classification_head('new_task', num_classes=10)\n",
        "tokens = 'Học_sinh được nghỉ học bắt đầu từ tháng 3 do ảnh hưởng của dịch covid-19'\n",
        "token_idxs = phoBERT_cls.encode(tokens)\n",
        "logprobs = phoBERT_cls.predict('new_task', token_idxs)  # tensor([[-1.1050, -1.0672, -1.1245]], grad_fn=<LogSoftmaxBackward>)\n",
        "logprobs"
      ]
    },
    {
      "cell_type": "markdown",
      "metadata": {
        "id": "jIi0ll-xtA9r"
      },
      "source": [
        "Xây dựng hàm đánh giá mô hình theo 2 metric là accuracy và f1_score."
      ]
    },
    {
      "cell_type": "markdown",
      "metadata": {
        "id": "rBSIAnLHs-67"
      },
      "source": [
        "### 8.5. Huấn luyện model"
      ]
    },
    {
      "cell_type": "code",
      "execution_count": null,
      "metadata": {
        "id": "EcQ1SbWNs_Tq",
        "colab": {
          "base_uri": "https://localhost:8080/"
        },
        "outputId": "08b03be0-c468-4d10-ccc4-581791402832"
      },
      "outputs": [
        {
          "output_type": "execute_result",
          "data": {
            "text/plain": [
              "(0.6666666666666666, 0.5333333333333333)"
            ]
          },
          "metadata": {},
          "execution_count": 36
        }
      ],
      "source": [
        "import torch\n",
        "import numpy as np\n",
        "from sklearn.metrics import accuracy_score, f1_score\n",
        "\n",
        "def evaluate(logits, targets):\n",
        "    \"\"\"\n",
        "    Đánh giá model sử dụng accuracy và f1 scores.\n",
        "    Args:\n",
        "        logits (B,C): torch.LongTensor. giá trị predicted logit cho class output.\n",
        "        targets (B): torch.LongTensor. actual target indices.\n",
        "    Returns:\n",
        "        acc (float): the accuracy score\n",
        "        f1 (float): the f1 score\n",
        "    \"\"\"\n",
        "    # Tính accuracy score và f1_score\n",
        "    logits = logits.detach().cpu().numpy()    \n",
        "    y_pred = np.argmax(logits, axis = 1)\n",
        "    targets = targets.detach().cpu().numpy()\n",
        "    f1 = f1_score(targets, y_pred, average='weighted')\n",
        "    acc = accuracy_score(targets, y_pred)\n",
        "    return acc, f1\n",
        "\n",
        "device = torch.device('cuda' if torch.cuda.is_available() else 'cpu')\n",
        "logits = torch.tensor([[0.1, 0.2, 0.7],\n",
        "                       [0.4, 0.1, 0.5],\n",
        "                       [0.1, 0.2, 0.7]]).to(device)\n",
        "targets = torch.tensor([1, 2, 2]).to(device)\n",
        "evaluate(logits, targets)"
      ]
    },
    {
      "cell_type": "code",
      "execution_count": null,
      "metadata": {
        "id": "YbJbmoNOtDjE"
      },
      "outputs": [],
      "source": [
        "def validate(valid_loader, model, device):\n",
        "    model.eval()\n",
        "    accs = []\n",
        "    f1s = []\n",
        "    with torch.no_grad():\n",
        "        for x_batch, y_batch in valid_loader:\n",
        "            x_batch = x_batch.to(device)\n",
        "            y_batch = y_batch.to(device)\n",
        "            outputs = model.predict('new_task', x_batch)\n",
        "            logits = torch.exp(outputs)\n",
        "            acc, f1 = evaluate(logits, y_batch)\n",
        "            accs.append(acc)\n",
        "            f1s.append(f1)\n",
        "    \n",
        "    mean_acc = np.mean(accs)\n",
        "    mean_f1 = np.mean(f1s)\n",
        "    return mean_acc, mean_f1"
      ]
    },
    {
      "cell_type": "markdown",
      "metadata": {
        "id": "SI4iUd6btDLt"
      },
      "source": [
        "Hàm huấn luyện mô hình trên từng epoch."
      ]
    },
    {
      "cell_type": "code",
      "execution_count": null,
      "metadata": {
        "id": "eyEEDWtxtF3x"
      },
      "outputs": [],
      "source": [
        "def trainOnEpoch(train_loader, model, optimizer, epoch, num_epochs, criteria, device, log_aggr = 100):\n",
        "    model.train()\n",
        "    sum_epoch_loss = 0\n",
        "    sum_acc = 0\n",
        "    sum_f1 = 0\n",
        "    start = time.time()\n",
        "    for i, (x_batch, y_batch) in enumerate(train_loader):\n",
        "      x_batch = x_batch.to(device)\n",
        "      y_batch = y_batch.to(device)\n",
        "      optimizer.zero_grad()\n",
        "      y_pred = model.predict('new_task', x_batch)\n",
        "      logits = torch.exp(y_pred)\n",
        "      acc, f1 = evaluate(logits, y_batch)\n",
        "      loss = criteria(y_pred, y_batch)\n",
        "      loss.backward()\n",
        "      optimizer.step()\n",
        "\n",
        "      loss_val = loss.item()\n",
        "      sum_epoch_loss += loss_val\n",
        "      sum_acc += acc\n",
        "      sum_f1 += f1\n",
        "      iter_num = epoch * len(train_loader) + i + 1\n",
        "\n",
        "      if i % log_aggr == 0:\n",
        "            print('[TRAIN] epoch %d/%d  observation %d/%d batch loss: %.4f (avg %.4f),  avg acc: %.4f, avg f1: %.4f, (%.2f im/s)'\n",
        "                % (epoch + 1, num_epochs, i, len(train_loader), loss_val, sum_epoch_loss / (i + 1),  sum_acc/(i+1), sum_f1/(i+1),\n",
        "                  len(x_batch) / (time.time() - start)))\n",
        "      start = time.time()  "
      ]
    },
    {
      "cell_type": "markdown",
      "metadata": {
        "id": "sqiIERLDtLW3"
      },
      "source": [
        "Quá trình huấn luyện một model classification trên pytorch sẽ bao gồm những bước chính sau đây:\n",
        "\n",
        "* Khởi tạo DataLoader để quản lý dữ liệu đưa vào huấn luyện và thẩm định.\n",
        "\n",
        "* Thiết lập kiến trúc mô hình.\n",
        "\n",
        "* Khai báo hàm loss function.\n",
        "\n",
        "* Phương pháp optimization giúp tối ưu loss function.\n",
        "\n",
        "* Huấn luyện mô hình qua các epochs.\n",
        "\n",
        "Bên dưới chúng ta sẽ lần lượt thực hiện các bước trên."
      ]
    },
    {
      "cell_type": "code",
      "execution_count": null,
      "metadata": {
        "id": "7F-RT0l8y8xS"
      },
      "outputs": [],
      "source": [
        "import os\n",
        "import time\n",
        "import random\n",
        "import argparse\n",
        "import pickle\n",
        "import numpy as np\n",
        "from tqdm import tqdm\n",
        "from os.path import join\n",
        "\n",
        "import torch\n",
        "from torch import nn\n",
        "from torch.utils.data import DataLoader\n",
        "import torch.nn.functional as F\n",
        "import torch.optim as optim\n",
        "from torch.optim.lr_scheduler import StepLR\n",
        "from torch.autograd import Variable\n",
        "from torch.backends import cudnn\n",
        "from sklearn.model_selection import StratifiedKFold\n"
      ]
    },
    {
      "cell_type": "markdown",
      "metadata": {
        "id": "dzdZ30RmzBY2"
      },
      "source": [
        "* Khởi tạo DataLoader để quản lý dữ liệu đưa vào huấn luyện và thẩm định."
      ]
    },
    {
      "cell_type": "code",
      "execution_count": null,
      "metadata": {
        "id": "e_RBZ4fLzG_s",
        "colab": {
          "base_uri": "https://localhost:8080/"
        },
        "outputId": "0b9c79ae-3492-45be-ec6d-adad24f785ec"
      },
      "outputs": [
        {
          "output_type": "stream",
          "name": "stderr",
          "text": [
            "/usr/local/lib/python3.10/dist-packages/transformers/generation_utils.py:24: FutureWarning: Importing `GenerationMixin` from `src/transformers/generation_utils.py` is deprecated and will be removed in Transformers v5. Import as `from transformers import GenerationMixin` instead.\n",
            "  warnings.warn(\n",
            "/usr/local/lib/python3.10/dist-packages/transformers/generation_tf_utils.py:24: FutureWarning: Importing `TFGenerationMixin` from `src/transformers/generation_tf_utils.py` is deprecated and will be removed in Transformers v5. Import as `from transformers import TFGenerationMixin` instead.\n",
            "  warnings.warn(\n",
            "/usr/local/lib/python3.10/dist-packages/transformers/generation_flax_utils.py:24: FutureWarning: Importing `FlaxGenerationMixin` from `src/transformers/generation_flax_utils.py` is deprecated and will be removed in Transformers v5. Import as `from transformers import FlaxGenerationMixin` instead.\n",
            "  warnings.warn(\n",
            "Xformers is not installed correctly. If you want to use memorry_efficient_attention to accelerate training use the following command to install Xformers\n",
            "pip install xformers.\n"
          ]
        }
      ],
      "source": [
        "# Load the model in fairseq\n",
        "from fairseq.models.roberta import RobertaModel\n",
        "from fairseq.data.encoders.fastbpe import fastBPE\n",
        "from fairseq.data import Dictionary\n",
        "from transformers.modeling_utils import * \n",
        "from transformers import *"
      ]
    },
    {
      "cell_type": "code",
      "execution_count": null,
      "metadata": {
        "id": "O9o0QnFwzIT8"
      },
      "outputs": [],
      "source": [
        "# Khởi tạo argument\n",
        "EPOCHS = 5\n",
        "BATCH_SIZE = 6\n",
        "ACCUMULATION_STEPS = 5\n",
        "FOLD = 4\n",
        "LR = 0.0001\n",
        "LR_DC_STEP = 80 \n",
        "LR_DC = 0.1\n",
        "CUR_DIR = os.path.dirname(os.getcwd())\n",
        "DEVICE = torch.device('cuda' if torch.cuda.is_available() else 'cpu')\n",
        "FOLD = 4\n",
        "CKPT_PATH2 = 'model_ckpt2'\n",
        "\n",
        "if not os.path.exists(CKPT_PATH2):\n",
        "    os.mkdir(CKPT_PATH2)"
      ]
    },
    {
      "cell_type": "code",
      "execution_count": null,
      "metadata": {
        "id": "pDd9tqXTtLsp",
        "colab": {
          "base_uri": "https://localhost:8080/"
        },
        "outputId": "2d32d3be-fb82-4fdc-fc1d-0e50aa2ec4ce"
      },
      "outputs": [
        {
          "metadata": {
            "tags": null
          },
          "name": "stdout",
          "output_type": "stream",
          "text": [
            "Training for fold 4\n",
            "Load model pretrained!\n",
            "Load BPE\n"
          ]
        },
        {
          "metadata": {
            "tags": null
          },
          "name": "stderr",
          "output_type": "stream",
          "text": [
            "/usr/local/lib/python3.10/dist-packages/transformers/optimization.py:407: FutureWarning: This implementation of AdamW is deprecated and will be removed in a future version. Use the PyTorch implementation torch.optim.AdamW instead, or set `no_deprecation_warning=True` to disable this warning\n",
            "  warnings.warn(\n"
          ]
        },
        {
          "metadata": {
            "tags": null
          },
          "name": "stdout",
          "output_type": "stream",
          "text": [
            "Init Optimizer, scheduler, criteria\n"
          ]
        },
        {
          "metadata": {
            "tags": null
          },
          "name": "stderr",
          "output_type": "stream",
          "text": [
            "\r  0%|          | 0/5 [00:00<?, ?it/s]"
          ]
        },
        {
          "metadata": {
            "tags": null
          },
          "name": "stdout",
          "output_type": "stream",
          "text": [
            "Epoch:  0\n",
            "[TRAIN] epoch 1/5  observation 0/4502 batch loss: 2.2823 (avg 2.2823),  avg acc: 0.0000, avg f1: 0.0000, (1.92 im/s)\n",
            "[TRAIN] epoch 1/5  observation 100/4502 batch loss: 2.1053 (avg 2.3850),  avg acc: 0.1287, avg f1: 0.0626, (21.60 im/s)\n",
            "[TRAIN] epoch 1/5  observation 200/4502 batch loss: 2.5338 (avg 2.3498),  avg acc: 0.1169, avg f1: 0.0574, (20.74 im/s)\n",
            "[TRAIN] epoch 1/5  observation 300/4502 batch loss: 2.2782 (avg 2.3286),  avg acc: 0.1262, avg f1: 0.0612, (20.77 im/s)\n",
            "[TRAIN] epoch 1/5  observation 400/4502 batch loss: 2.1406 (avg 2.3158),  avg acc: 0.1309, avg f1: 0.0627, (20.93 im/s)\n",
            "[TRAIN] epoch 1/5  observation 500/4502 batch loss: 2.4447 (avg 2.3055),  avg acc: 0.1381, avg f1: 0.0679, (21.00 im/s)\n",
            "[TRAIN] epoch 1/5  observation 600/4502 batch loss: 2.3065 (avg 2.2975),  avg acc: 0.1412, avg f1: 0.0695, (21.16 im/s)\n",
            "[TRAIN] epoch 1/5  observation 700/4502 batch loss: 2.0618 (avg 2.2935),  avg acc: 0.1419, avg f1: 0.0698, (20.89 im/s)\n",
            "[TRAIN] epoch 1/5  observation 800/4502 batch loss: 2.3224 (avg 2.2920),  avg acc: 0.1417, avg f1: 0.0694, (20.90 im/s)\n",
            "[TRAIN] epoch 1/5  observation 900/4502 batch loss: 2.2158 (avg 2.2885),  avg acc: 0.1448, avg f1: 0.0714, (20.97 im/s)\n",
            "[TRAIN] epoch 1/5  observation 1000/4502 batch loss: 2.3751 (avg 2.2867),  avg acc: 0.1427, avg f1: 0.0712, (21.04 im/s)\n",
            "[TRAIN] epoch 1/5  observation 1100/4502 batch loss: 2.3876 (avg 2.2842),  avg acc: 0.1450, avg f1: 0.0722, (20.59 im/s)\n",
            "[TRAIN] epoch 1/5  observation 1200/4502 batch loss: 2.2021 (avg 2.2842),  avg acc: 0.1443, avg f1: 0.0722, (20.81 im/s)\n",
            "[TRAIN] epoch 1/5  observation 1300/4502 batch loss: 2.0360 (avg 2.2803),  avg acc: 0.1449, avg f1: 0.0724, (21.09 im/s)\n",
            "[TRAIN] epoch 1/5  observation 1400/4502 batch loss: 2.1215 (avg 2.2769),  avg acc: 0.1468, avg f1: 0.0736, (20.75 im/s)\n",
            "[TRAIN] epoch 1/5  observation 1500/4502 batch loss: 2.3787 (avg 2.2771),  avg acc: 0.1463, avg f1: 0.0731, (20.82 im/s)\n",
            "[TRAIN] epoch 1/5  observation 1600/4502 batch loss: 2.4984 (avg 2.2752),  avg acc: 0.1493, avg f1: 0.0743, (20.68 im/s)\n",
            "[TRAIN] epoch 1/5  observation 1700/4502 batch loss: 2.2350 (avg 2.2754),  avg acc: 0.1479, avg f1: 0.0736, (20.91 im/s)\n",
            "[TRAIN] epoch 1/5  observation 1800/4502 batch loss: 2.2300 (avg 2.2750),  avg acc: 0.1482, avg f1: 0.0735, (20.99 im/s)\n",
            "[TRAIN] epoch 1/5  observation 1900/4502 batch loss: 2.2757 (avg 2.2743),  avg acc: 0.1485, avg f1: 0.0734, (21.10 im/s)\n",
            "[TRAIN] epoch 1/5  observation 2000/4502 batch loss: 2.1375 (avg 2.2739),  avg acc: 0.1488, avg f1: 0.0741, (20.48 im/s)\n",
            "[TRAIN] epoch 1/5  observation 2100/4502 batch loss: 2.3454 (avg 2.2727),  avg acc: 0.1497, avg f1: 0.0747, (20.71 im/s)\n",
            "[TRAIN] epoch 1/5  observation 2200/4502 batch loss: 2.0331 (avg 2.2724),  avg acc: 0.1499, avg f1: 0.0749, (21.13 im/s)\n",
            "[TRAIN] epoch 1/5  observation 2300/4502 batch loss: 2.2931 (avg 2.2727),  avg acc: 0.1490, avg f1: 0.0742, (20.83 im/s)\n",
            "[TRAIN] epoch 1/5  observation 2400/4502 batch loss: 2.3600 (avg 2.2738),  avg acc: 0.1478, avg f1: 0.0737, (20.71 im/s)\n",
            "[TRAIN] epoch 1/5  observation 2500/4502 batch loss: 2.3247 (avg 2.2734),  avg acc: 0.1477, avg f1: 0.0738, (20.89 im/s)\n",
            "[TRAIN] epoch 1/5  observation 2600/4502 batch loss: 2.0764 (avg 2.2726),  avg acc: 0.1479, avg f1: 0.0736, (20.87 im/s)\n",
            "[TRAIN] epoch 1/5  observation 2700/4502 batch loss: 2.4114 (avg 2.2733),  avg acc: 0.1479, avg f1: 0.0733, (20.99 im/s)\n",
            "[TRAIN] epoch 1/5  observation 2800/4502 batch loss: 2.2087 (avg 2.2731),  avg acc: 0.1479, avg f1: 0.0733, (20.90 im/s)\n",
            "[TRAIN] epoch 1/5  observation 2900/4502 batch loss: 2.3189 (avg 2.2727),  avg acc: 0.1481, avg f1: 0.0735, (21.07 im/s)\n",
            "[TRAIN] epoch 1/5  observation 3000/4502 batch loss: 1.8936 (avg 2.2721),  avg acc: 0.1486, avg f1: 0.0738, (20.96 im/s)\n",
            "[TRAIN] epoch 1/5  observation 3100/4502 batch loss: 2.3352 (avg 2.2717),  avg acc: 0.1490, avg f1: 0.0736, (21.19 im/s)\n",
            "[TRAIN] epoch 1/5  observation 3200/4502 batch loss: 2.2450 (avg 2.2721),  avg acc: 0.1492, avg f1: 0.0739, (20.88 im/s)\n",
            "[TRAIN] epoch 1/5  observation 3300/4502 batch loss: 2.3779 (avg 2.2718),  avg acc: 0.1496, avg f1: 0.0738, (20.97 im/s)\n",
            "[TRAIN] epoch 1/5  observation 3400/4502 batch loss: 1.9843 (avg 2.2714),  avg acc: 0.1493, avg f1: 0.0738, (21.01 im/s)\n",
            "[TRAIN] epoch 1/5  observation 3500/4502 batch loss: 2.0912 (avg 2.2707),  avg acc: 0.1496, avg f1: 0.0740, (20.46 im/s)\n",
            "[TRAIN] epoch 1/5  observation 3600/4502 batch loss: 2.2947 (avg 2.2714),  avg acc: 0.1491, avg f1: 0.0736, (20.70 im/s)\n",
            "[TRAIN] epoch 1/5  observation 3700/4502 batch loss: 2.3038 (avg 2.2713),  avg acc: 0.1493, avg f1: 0.0735, (21.02 im/s)\n",
            "[TRAIN] epoch 1/5  observation 3800/4502 batch loss: 2.1467 (avg 2.2707),  avg acc: 0.1491, avg f1: 0.0733, (20.87 im/s)\n",
            "[TRAIN] epoch 1/5  observation 3900/4502 batch loss: 2.3819 (avg 2.2702),  avg acc: 0.1494, avg f1: 0.0735, (20.51 im/s)\n",
            "[TRAIN] epoch 1/5  observation 4000/4502 batch loss: 2.5996 (avg 2.2695),  avg acc: 0.1500, avg f1: 0.0739, (20.94 im/s)\n",
            "[TRAIN] epoch 1/5  observation 4100/4502 batch loss: 2.3558 (avg 2.2692),  avg acc: 0.1502, avg f1: 0.0742, (20.95 im/s)\n",
            "[TRAIN] epoch 1/5  observation 4200/4502 batch loss: 2.3706 (avg 2.2687),  avg acc: 0.1504, avg f1: 0.0744, (20.86 im/s)\n",
            "[TRAIN] epoch 1/5  observation 4300/4502 batch loss: 2.2386 (avg 2.2683),  avg acc: 0.1509, avg f1: 0.0745, (20.75 im/s)\n",
            "[TRAIN] epoch 1/5  observation 4400/4502 batch loss: 2.2504 (avg 2.2680),  avg acc: 0.1508, avg f1: 0.0746, (21.02 im/s)\n",
            "[TRAIN] epoch 1/5  observation 4500/4502 batch loss: 2.0975 (avg 2.2678),  avg acc: 0.1509, avg f1: 0.0749, (20.73 im/s)\n",
            "Epoch 0 validation: acc: 0.1567, f1: 0.1566 \n",
            "\n"
          ]
        },
        {
          "metadata": {
            "tags": null
          },
          "name": "stderr",
          "output_type": "stream",
          "text": [
            "\r 20%|██        | 1/5 [23:29<1:33:56, 1409.24s/it]"
          ]
        },
        {
          "output_type": "stream",
          "name": "stdout",
          "text": [
            "Epoch:  1\n",
            "[TRAIN] epoch 2/5  observation 0/4502 batch loss: 2.2129 (avg 2.2129),  avg acc: 0.1667, avg f1: 0.2222, (17.53 im/s)\n",
            "[TRAIN] epoch 2/5  observation 100/4502 batch loss: 2.1173 (avg 2.2620),  avg acc: 0.1469, avg f1: 0.0798, (20.15 im/s)\n",
            "[TRAIN] epoch 2/5  observation 200/4502 batch loss: 2.2904 (avg 2.2648),  avg acc: 0.1501, avg f1: 0.0764, (20.45 im/s)\n",
            "[TRAIN] epoch 2/5  observation 300/4502 batch loss: 2.2501 (avg 2.2579),  avg acc: 0.1628, avg f1: 0.0798, (20.99 im/s)\n",
            "[TRAIN] epoch 2/5  observation 400/4502 batch loss: 2.3423 (avg 2.2582),  avg acc: 0.1596, avg f1: 0.0780, (20.88 im/s)\n",
            "[TRAIN] epoch 2/5  observation 500/4502 batch loss: 2.1925 (avg 2.2567),  avg acc: 0.1600, avg f1: 0.0798, (20.72 im/s)\n",
            "[TRAIN] epoch 2/5  observation 600/4502 batch loss: 2.4120 (avg 2.2547),  avg acc: 0.1636, avg f1: 0.0817, (20.95 im/s)\n",
            "[TRAIN] epoch 2/5  observation 700/4502 batch loss: 2.2275 (avg 2.2559),  avg acc: 0.1664, avg f1: 0.0826, (20.67 im/s)\n",
            "[TRAIN] epoch 2/5  observation 800/4502 batch loss: 2.0140 (avg 2.2523),  avg acc: 0.1677, avg f1: 0.0827, (21.10 im/s)\n",
            "[TRAIN] epoch 2/5  observation 900/4502 batch loss: 2.3526 (avg 2.2559),  avg acc: 0.1648, avg f1: 0.0826, (20.86 im/s)\n",
            "[TRAIN] epoch 2/5  observation 1000/4502 batch loss: 2.4800 (avg 2.2564),  avg acc: 0.1630, avg f1: 0.0824, (20.43 im/s)\n",
            "[TRAIN] epoch 2/5  observation 1100/4502 batch loss: 2.2460 (avg 2.2553),  avg acc: 0.1621, avg f1: 0.0813, (20.98 im/s)\n",
            "[TRAIN] epoch 2/5  observation 1200/4502 batch loss: 2.5004 (avg 2.2560),  avg acc: 0.1599, avg f1: 0.0816, (20.94 im/s)\n",
            "[TRAIN] epoch 2/5  observation 1300/4502 batch loss: 2.2713 (avg 2.2550),  avg acc: 0.1606, avg f1: 0.0813, (21.21 im/s)\n",
            "[TRAIN] epoch 2/5  observation 1400/4502 batch loss: 2.1202 (avg 2.2545),  avg acc: 0.1617, avg f1: 0.0815, (20.62 im/s)\n",
            "[TRAIN] epoch 2/5  observation 1500/4502 batch loss: 2.4697 (avg 2.2551),  avg acc: 0.1617, avg f1: 0.0808, (20.80 im/s)\n",
            "[TRAIN] epoch 2/5  observation 1600/4502 batch loss: 2.1784 (avg 2.2549),  avg acc: 0.1619, avg f1: 0.0803, (20.79 im/s)\n",
            "[TRAIN] epoch 2/5  observation 1700/4502 batch loss: 2.3551 (avg 2.2560),  avg acc: 0.1602, avg f1: 0.0803, (21.01 im/s)\n",
            "[TRAIN] epoch 2/5  observation 1800/4502 batch loss: 2.1912 (avg 2.2567),  avg acc: 0.1591, avg f1: 0.0795, (20.95 im/s)\n",
            "[TRAIN] epoch 2/5  observation 1900/4502 batch loss: 2.4072 (avg 2.2569),  avg acc: 0.1595, avg f1: 0.0793, (20.88 im/s)\n",
            "[TRAIN] epoch 2/5  observation 2000/4502 batch loss: 2.3961 (avg 2.2564),  avg acc: 0.1578, avg f1: 0.0791, (20.79 im/s)\n",
            "[TRAIN] epoch 2/5  observation 2100/4502 batch loss: 2.4566 (avg 2.2565),  avg acc: 0.1575, avg f1: 0.0790, (20.80 im/s)\n",
            "[TRAIN] epoch 2/5  observation 2200/4502 batch loss: 2.4758 (avg 2.2565),  avg acc: 0.1569, avg f1: 0.0790, (20.80 im/s)\n",
            "[TRAIN] epoch 2/5  observation 2300/4502 batch loss: 2.2144 (avg 2.2566),  avg acc: 0.1572, avg f1: 0.0793, (20.93 im/s)\n",
            "[TRAIN] epoch 2/5  observation 2400/4502 batch loss: 2.2439 (avg 2.2563),  avg acc: 0.1582, avg f1: 0.0795, (20.77 im/s)\n",
            "[TRAIN] epoch 2/5  observation 2500/4502 batch loss: 2.4359 (avg 2.2564),  avg acc: 0.1587, avg f1: 0.0794, (20.71 im/s)\n",
            "[TRAIN] epoch 2/5  observation 2600/4502 batch loss: 2.2761 (avg 2.2562),  avg acc: 0.1587, avg f1: 0.0793, (20.97 im/s)\n",
            "[TRAIN] epoch 2/5  observation 2700/4502 batch loss: 2.2817 (avg 2.2565),  avg acc: 0.1585, avg f1: 0.0793, (20.58 im/s)\n",
            "[TRAIN] epoch 2/5  observation 2800/4502 batch loss: 2.2676 (avg 2.2569),  avg acc: 0.1584, avg f1: 0.0793, (20.70 im/s)\n",
            "[TRAIN] epoch 2/5  observation 2900/4502 batch loss: 2.1048 (avg 2.2567),  avg acc: 0.1591, avg f1: 0.0795, (21.02 im/s)\n",
            "[TRAIN] epoch 2/5  observation 3000/4502 batch loss: 2.1545 (avg 2.2575),  avg acc: 0.1590, avg f1: 0.0792, (20.38 im/s)\n",
            "[TRAIN] epoch 2/5  observation 3100/4502 batch loss: 2.1457 (avg 2.2577),  avg acc: 0.1592, avg f1: 0.0795, (20.73 im/s)\n",
            "[TRAIN] epoch 2/5  observation 3200/4502 batch loss: 2.2195 (avg 2.2575),  avg acc: 0.1594, avg f1: 0.0792, (20.83 im/s)\n",
            "[TRAIN] epoch 2/5  observation 3300/4502 batch loss: 2.2112 (avg 2.2575),  avg acc: 0.1592, avg f1: 0.0794, (20.81 im/s)\n",
            "[TRAIN] epoch 2/5  observation 3400/4502 batch loss: 2.2429 (avg 2.2577),  avg acc: 0.1593, avg f1: 0.0793, (20.74 im/s)\n",
            "[TRAIN] epoch 2/5  observation 3500/4502 batch loss: 2.1147 (avg 2.2578),  avg acc: 0.1590, avg f1: 0.0789, (20.79 im/s)\n",
            "[TRAIN] epoch 2/5  observation 3600/4502 batch loss: 2.3970 (avg 2.2584),  avg acc: 0.1584, avg f1: 0.0789, (20.94 im/s)\n",
            "[TRAIN] epoch 2/5  observation 3700/4502 batch loss: 2.2612 (avg 2.2581),  avg acc: 0.1582, avg f1: 0.0794, (20.87 im/s)\n",
            "[TRAIN] epoch 2/5  observation 3800/4502 batch loss: 2.2297 (avg 2.2579),  avg acc: 0.1583, avg f1: 0.0798, (21.13 im/s)\n",
            "[TRAIN] epoch 2/5  observation 3900/4502 batch loss: 2.1723 (avg 2.2579),  avg acc: 0.1584, avg f1: 0.0797, (21.08 im/s)\n",
            "[TRAIN] epoch 2/5  observation 4000/4502 batch loss: 2.2706 (avg 2.2583),  avg acc: 0.1582, avg f1: 0.0798, (21.01 im/s)\n",
            "[TRAIN] epoch 2/5  observation 4100/4502 batch loss: 2.3618 (avg 2.2585),  avg acc: 0.1577, avg f1: 0.0796, (20.84 im/s)\n",
            "[TRAIN] epoch 2/5  observation 4200/4502 batch loss: 2.3178 (avg 2.2589),  avg acc: 0.1575, avg f1: 0.0792, (20.69 im/s)\n",
            "[TRAIN] epoch 2/5  observation 4300/4502 batch loss: 2.2515 (avg 2.2589),  avg acc: 0.1575, avg f1: 0.0790, (20.61 im/s)\n",
            "[TRAIN] epoch 2/5  observation 4400/4502 batch loss: 2.3938 (avg 2.2586),  avg acc: 0.1575, avg f1: 0.0788, (20.72 im/s)\n",
            "[TRAIN] epoch 2/5  observation 4500/4502 batch loss: 2.4874 (avg 2.2588),  avg acc: 0.1576, avg f1: 0.0790, (21.06 im/s)\n",
            "Epoch 1 validation: acc: 0.1544, f1: 0.1543 \n",
            "\n"
          ]
        },
        {
          "output_type": "stream",
          "name": "stderr",
          "text": [
            "\r 40%|████      | 2/5 [47:15<1:10:57, 1419.07s/it]"
          ]
        },
        {
          "output_type": "stream",
          "name": "stdout",
          "text": [
            "Epoch:  2\n",
            "[TRAIN] epoch 3/5  observation 0/4502 batch loss: 2.2670 (avg 2.2670),  avg acc: 0.1667, avg f1: 0.0476, (15.39 im/s)\n",
            "[TRAIN] epoch 3/5  observation 100/4502 batch loss: 2.2967 (avg 2.2580),  avg acc: 0.1551, avg f1: 0.0881, (20.05 im/s)\n",
            "[TRAIN] epoch 3/5  observation 200/4502 batch loss: 2.0566 (avg 2.2644),  avg acc: 0.1434, avg f1: 0.0787, (20.87 im/s)\n",
            "[TRAIN] epoch 3/5  observation 300/4502 batch loss: 2.3645 (avg 2.2595),  avg acc: 0.1545, avg f1: 0.0869, (20.95 im/s)\n",
            "[TRAIN] epoch 3/5  observation 400/4502 batch loss: 2.4988 (avg 2.2629),  avg acc: 0.1534, avg f1: 0.0852, (20.81 im/s)\n",
            "[TRAIN] epoch 3/5  observation 500/4502 batch loss: 2.3167 (avg 2.2662),  avg acc: 0.1544, avg f1: 0.0863, (20.79 im/s)\n",
            "[TRAIN] epoch 3/5  observation 600/4502 batch loss: 2.3624 (avg 2.2654),  avg acc: 0.1536, avg f1: 0.0856, (21.11 im/s)\n",
            "[TRAIN] epoch 3/5  observation 700/4502 batch loss: 2.4404 (avg 2.2630),  avg acc: 0.1553, avg f1: 0.0869, (20.84 im/s)\n",
            "[TRAIN] epoch 3/5  observation 800/4502 batch loss: 2.1666 (avg 2.2626),  avg acc: 0.1533, avg f1: 0.0861, (20.62 im/s)\n",
            "[TRAIN] epoch 3/5  observation 900/4502 batch loss: 2.3503 (avg 2.2598),  avg acc: 0.1535, avg f1: 0.0866, (20.71 im/s)\n",
            "[TRAIN] epoch 3/5  observation 1000/4502 batch loss: 2.2213 (avg 2.2628),  avg acc: 0.1520, avg f1: 0.0855, (20.94 im/s)\n",
            "[TRAIN] epoch 3/5  observation 1100/4502 batch loss: 2.2615 (avg 2.2643),  avg acc: 0.1490, avg f1: 0.0840, (20.84 im/s)\n",
            "[TRAIN] epoch 3/5  observation 1200/4502 batch loss: 2.2566 (avg 2.2650),  avg acc: 0.1486, avg f1: 0.0837, (20.76 im/s)\n",
            "[TRAIN] epoch 3/5  observation 1300/4502 batch loss: 2.2393 (avg 2.2672),  avg acc: 0.1485, avg f1: 0.0841, (20.89 im/s)\n",
            "[TRAIN] epoch 3/5  observation 1400/4502 batch loss: 2.3700 (avg 2.2659),  avg acc: 0.1479, avg f1: 0.0845, (20.91 im/s)\n",
            "[TRAIN] epoch 3/5  observation 1500/4502 batch loss: 2.4996 (avg 2.2644),  avg acc: 0.1506, avg f1: 0.0873, (20.97 im/s)\n",
            "[TRAIN] epoch 3/5  observation 1600/4502 batch loss: 2.1743 (avg 2.2640),  avg acc: 0.1512, avg f1: 0.0880, (20.52 im/s)\n",
            "[TRAIN] epoch 3/5  observation 1700/4502 batch loss: 2.4874 (avg 2.2646),  avg acc: 0.1508, avg f1: 0.0881, (20.98 im/s)\n",
            "[TRAIN] epoch 3/5  observation 1800/4502 batch loss: 2.4185 (avg 2.2640),  avg acc: 0.1520, avg f1: 0.0894, (21.14 im/s)\n",
            "[TRAIN] epoch 3/5  observation 1900/4502 batch loss: 2.3517 (avg 2.2632),  avg acc: 0.1521, avg f1: 0.0900, (20.45 im/s)\n",
            "[TRAIN] epoch 3/5  observation 2000/4502 batch loss: 2.2144 (avg 2.2618),  avg acc: 0.1532, avg f1: 0.0915, (20.73 im/s)\n",
            "[TRAIN] epoch 3/5  observation 2100/4502 batch loss: 2.3769 (avg 2.2598),  avg acc: 0.1547, avg f1: 0.0929, (20.89 im/s)\n",
            "[TRAIN] epoch 3/5  observation 2200/4502 batch loss: 2.4847 (avg 2.2605),  avg acc: 0.1551, avg f1: 0.0929, (20.86 im/s)\n",
            "[TRAIN] epoch 3/5  observation 2300/4502 batch loss: 2.3232 (avg 2.2608),  avg acc: 0.1544, avg f1: 0.0921, (20.77 im/s)\n",
            "[TRAIN] epoch 3/5  observation 2400/4502 batch loss: 2.2401 (avg 2.2605),  avg acc: 0.1553, avg f1: 0.0929, (20.69 im/s)\n",
            "[TRAIN] epoch 3/5  observation 2500/4502 batch loss: 2.1983 (avg 2.2598),  avg acc: 0.1559, avg f1: 0.0936, (21.07 im/s)\n",
            "[TRAIN] epoch 3/5  observation 2600/4502 batch loss: 2.1483 (avg 2.2600),  avg acc: 0.1549, avg f1: 0.0931, (21.14 im/s)\n",
            "[TRAIN] epoch 3/5  observation 2700/4502 batch loss: 2.1460 (avg 2.2600),  avg acc: 0.1543, avg f1: 0.0927, (20.74 im/s)\n",
            "[TRAIN] epoch 3/5  observation 2800/4502 batch loss: 2.1927 (avg 2.2602),  avg acc: 0.1539, avg f1: 0.0923, (20.75 im/s)\n",
            "[TRAIN] epoch 3/5  observation 2900/4502 batch loss: 2.1186 (avg 2.2607),  avg acc: 0.1535, avg f1: 0.0917, (21.06 im/s)\n",
            "[TRAIN] epoch 3/5  observation 3000/4502 batch loss: 2.3951 (avg 2.2597),  avg acc: 0.1544, avg f1: 0.0926, (20.75 im/s)\n",
            "[TRAIN] epoch 3/5  observation 3100/4502 batch loss: 2.0812 (avg 2.2592),  avg acc: 0.1548, avg f1: 0.0929, (20.79 im/s)\n",
            "[TRAIN] epoch 3/5  observation 3200/4502 batch loss: 2.3851 (avg 2.2596),  avg acc: 0.1546, avg f1: 0.0928, (20.81 im/s)\n",
            "[TRAIN] epoch 3/5  observation 3300/4502 batch loss: 2.1610 (avg 2.2596),  avg acc: 0.1549, avg f1: 0.0931, (20.92 im/s)\n",
            "[TRAIN] epoch 3/5  observation 3400/4502 batch loss: 2.4155 (avg 2.2592),  avg acc: 0.1562, avg f1: 0.0943, (20.56 im/s)\n",
            "[TRAIN] epoch 3/5  observation 3500/4502 batch loss: 2.2988 (avg 2.2590),  avg acc: 0.1559, avg f1: 0.0942, (20.80 im/s)\n",
            "[TRAIN] epoch 3/5  observation 3600/4502 batch loss: 2.2280 (avg 2.2586),  avg acc: 0.1565, avg f1: 0.0947, (21.16 im/s)\n",
            "[TRAIN] epoch 3/5  observation 3700/4502 batch loss: 2.2444 (avg 2.2582),  avg acc: 0.1571, avg f1: 0.0951, (20.67 im/s)\n",
            "[TRAIN] epoch 3/5  observation 3800/4502 batch loss: 2.2135 (avg 2.2580),  avg acc: 0.1570, avg f1: 0.0950, (20.93 im/s)\n",
            "[TRAIN] epoch 3/5  observation 3900/4502 batch loss: 2.1392 (avg 2.2578),  avg acc: 0.1576, avg f1: 0.0955, (20.93 im/s)\n",
            "[TRAIN] epoch 3/5  observation 4000/4502 batch loss: 2.5125 (avg 2.2579),  avg acc: 0.1574, avg f1: 0.0956, (20.63 im/s)\n",
            "[TRAIN] epoch 3/5  observation 4100/4502 batch loss: 2.1883 (avg 2.2579),  avg acc: 0.1578, avg f1: 0.0959, (21.15 im/s)\n",
            "[TRAIN] epoch 3/5  observation 4200/4502 batch loss: 2.5004 (avg 2.2577),  avg acc: 0.1574, avg f1: 0.0957, (20.72 im/s)\n",
            "[TRAIN] epoch 3/5  observation 4300/4502 batch loss: 2.1459 (avg 2.2577),  avg acc: 0.1577, avg f1: 0.0961, (20.95 im/s)\n",
            "[TRAIN] epoch 3/5  observation 4400/4502 batch loss: 2.1264 (avg 2.2578),  avg acc: 0.1575, avg f1: 0.0960, (20.97 im/s)\n",
            "[TRAIN] epoch 3/5  observation 4500/4502 batch loss: 2.3324 (avg 2.2580),  avg acc: 0.1572, avg f1: 0.0960, (20.87 im/s)\n",
            "Epoch 2 validation: acc: 0.1544, f1: 0.1543 \n",
            "\n"
          ]
        },
        {
          "output_type": "stream",
          "name": "stderr",
          "text": [
            "\r 60%|██████    | 3/5 [1:11:04<47:27, 1423.65s/it]"
          ]
        },
        {
          "output_type": "stream",
          "name": "stdout",
          "text": [
            "Epoch:  3\n",
            "[TRAIN] epoch 4/5  observation 0/4502 batch loss: 2.1314 (avg 2.1314),  avg acc: 0.1667, avg f1: 0.0556, (17.11 im/s)\n",
            "[TRAIN] epoch 4/5  observation 100/4502 batch loss: 2.2991 (avg 2.2585),  avg acc: 0.1502, avg f1: 0.0915, (19.89 im/s)\n",
            "[TRAIN] epoch 4/5  observation 200/4502 batch loss: 2.1932 (avg 2.2542),  avg acc: 0.1451, avg f1: 0.0889, (20.97 im/s)\n",
            "[TRAIN] epoch 4/5  observation 300/4502 batch loss: 2.1885 (avg 2.2592),  avg acc: 0.1417, avg f1: 0.0876, (20.93 im/s)\n",
            "[TRAIN] epoch 4/5  observation 400/4502 batch loss: 2.1775 (avg 2.2551),  avg acc: 0.1488, avg f1: 0.0923, (20.98 im/s)\n",
            "[TRAIN] epoch 4/5  observation 500/4502 batch loss: 2.1440 (avg 2.2550),  avg acc: 0.1494, avg f1: 0.0936, (20.95 im/s)\n",
            "[TRAIN] epoch 4/5  observation 600/4502 batch loss: 2.2207 (avg 2.2531),  avg acc: 0.1534, avg f1: 0.0967, (21.03 im/s)\n",
            "[TRAIN] epoch 4/5  observation 700/4502 batch loss: 2.3149 (avg 2.2544),  avg acc: 0.1562, avg f1: 0.0985, (20.85 im/s)\n",
            "[TRAIN] epoch 4/5  observation 800/4502 batch loss: 1.9830 (avg 2.2535),  avg acc: 0.1561, avg f1: 0.0980, (21.05 im/s)\n",
            "[TRAIN] epoch 4/5  observation 900/4502 batch loss: 2.2011 (avg 2.2520),  avg acc: 0.1578, avg f1: 0.1002, (20.77 im/s)\n",
            "[TRAIN] epoch 4/5  observation 1000/4502 batch loss: 2.1750 (avg 2.2509),  avg acc: 0.1578, avg f1: 0.0999, (20.85 im/s)\n",
            "[TRAIN] epoch 4/5  observation 1100/4502 batch loss: 2.3764 (avg 2.2513),  avg acc: 0.1555, avg f1: 0.0986, (21.02 im/s)\n",
            "[TRAIN] epoch 4/5  observation 1200/4502 batch loss: 2.3341 (avg 2.2506),  avg acc: 0.1561, avg f1: 0.0993, (20.80 im/s)\n",
            "[TRAIN] epoch 4/5  observation 1300/4502 batch loss: 2.0158 (avg 2.2497),  avg acc: 0.1586, avg f1: 0.1013, (20.97 im/s)\n",
            "[TRAIN] epoch 4/5  observation 1400/4502 batch loss: 2.3147 (avg 2.2514),  avg acc: 0.1576, avg f1: 0.1010, (21.16 im/s)\n",
            "[TRAIN] epoch 4/5  observation 1500/4502 batch loss: 2.5027 (avg 2.2515),  avg acc: 0.1569, avg f1: 0.1010, (20.82 im/s)\n",
            "[TRAIN] epoch 4/5  observation 1600/4502 batch loss: 2.2381 (avg 2.2501),  avg acc: 0.1589, avg f1: 0.1033, (20.88 im/s)\n",
            "[TRAIN] epoch 4/5  observation 1700/4502 batch loss: 2.4401 (avg 2.2509),  avg acc: 0.1586, avg f1: 0.1032, (20.69 im/s)\n",
            "[TRAIN] epoch 4/5  observation 1800/4502 batch loss: 2.1899 (avg 2.2513),  avg acc: 0.1587, avg f1: 0.1030, (21.11 im/s)\n",
            "[TRAIN] epoch 4/5  observation 1900/4502 batch loss: 2.2795 (avg 2.2520),  avg acc: 0.1590, avg f1: 0.1033, (21.11 im/s)\n",
            "[TRAIN] epoch 4/5  observation 2000/4502 batch loss: 2.3061 (avg 2.2527),  avg acc: 0.1569, avg f1: 0.1018, (20.80 im/s)\n",
            "[TRAIN] epoch 4/5  observation 2100/4502 batch loss: 2.0522 (avg 2.2533),  avg acc: 0.1580, avg f1: 0.1022, (21.10 im/s)\n",
            "[TRAIN] epoch 4/5  observation 2200/4502 batch loss: 2.1351 (avg 2.2525),  avg acc: 0.1588, avg f1: 0.1022, (20.55 im/s)\n",
            "[TRAIN] epoch 4/5  observation 2300/4502 batch loss: 2.0481 (avg 2.2536),  avg acc: 0.1578, avg f1: 0.1011, (20.96 im/s)\n",
            "[TRAIN] epoch 4/5  observation 2400/4502 batch loss: 2.1848 (avg 2.2531),  avg acc: 0.1583, avg f1: 0.1012, (21.07 im/s)\n",
            "[TRAIN] epoch 4/5  observation 2500/4502 batch loss: 2.3544 (avg 2.2530),  avg acc: 0.1580, avg f1: 0.1006, (20.97 im/s)\n",
            "[TRAIN] epoch 4/5  observation 2600/4502 batch loss: 2.2451 (avg 2.2525),  avg acc: 0.1584, avg f1: 0.1010, (21.04 im/s)\n",
            "[TRAIN] epoch 4/5  observation 2700/4502 batch loss: 2.2402 (avg 2.2525),  avg acc: 0.1583, avg f1: 0.1008, (20.91 im/s)\n",
            "[TRAIN] epoch 4/5  observation 2800/4502 batch loss: 2.2959 (avg 2.2527),  avg acc: 0.1584, avg f1: 0.1006, (20.87 im/s)\n",
            "[TRAIN] epoch 4/5  observation 2900/4502 batch loss: 2.3144 (avg 2.2526),  avg acc: 0.1583, avg f1: 0.1004, (21.03 im/s)\n",
            "[TRAIN] epoch 4/5  observation 3000/4502 batch loss: 2.2074 (avg 2.2528),  avg acc: 0.1574, avg f1: 0.0998, (20.65 im/s)\n",
            "[TRAIN] epoch 4/5  observation 3100/4502 batch loss: 2.4367 (avg 2.2535),  avg acc: 0.1571, avg f1: 0.0996, (20.96 im/s)\n",
            "[TRAIN] epoch 4/5  observation 3200/4502 batch loss: 2.2186 (avg 2.2542),  avg acc: 0.1568, avg f1: 0.0992, (20.94 im/s)\n",
            "[TRAIN] epoch 4/5  observation 3300/4502 batch loss: 2.1979 (avg 2.2544),  avg acc: 0.1570, avg f1: 0.0998, (21.00 im/s)\n",
            "[TRAIN] epoch 4/5  observation 3400/4502 batch loss: 2.3487 (avg 2.2545),  avg acc: 0.1568, avg f1: 0.0997, (20.72 im/s)\n",
            "[TRAIN] epoch 4/5  observation 3500/4502 batch loss: 2.1183 (avg 2.2541),  avg acc: 0.1570, avg f1: 0.0998, (21.02 im/s)\n",
            "[TRAIN] epoch 4/5  observation 3600/4502 batch loss: 2.1866 (avg 2.2538),  avg acc: 0.1571, avg f1: 0.1000, (21.18 im/s)\n",
            "[TRAIN] epoch 4/5  observation 3700/4502 batch loss: 2.2362 (avg 2.2537),  avg acc: 0.1572, avg f1: 0.1003, (20.85 im/s)\n",
            "[TRAIN] epoch 4/5  observation 3800/4502 batch loss: 2.2293 (avg 2.2538),  avg acc: 0.1571, avg f1: 0.1004, (21.03 im/s)\n",
            "[TRAIN] epoch 4/5  observation 3900/4502 batch loss: 2.1679 (avg 2.2535),  avg acc: 0.1574, avg f1: 0.1007, (21.13 im/s)\n",
            "[TRAIN] epoch 4/5  observation 4000/4502 batch loss: 2.3461 (avg 2.2542),  avg acc: 0.1569, avg f1: 0.1004, (21.07 im/s)\n",
            "[TRAIN] epoch 4/5  observation 4100/4502 batch loss: 2.1895 (avg 2.2541),  avg acc: 0.1569, avg f1: 0.1004, (21.00 im/s)\n",
            "[TRAIN] epoch 4/5  observation 4200/4502 batch loss: 2.4993 (avg 2.2543),  avg acc: 0.1561, avg f1: 0.0998, (20.80 im/s)\n",
            "[TRAIN] epoch 4/5  observation 4300/4502 batch loss: 2.4309 (avg 2.2547),  avg acc: 0.1560, avg f1: 0.0998, (20.67 im/s)\n",
            "[TRAIN] epoch 4/5  observation 4400/4502 batch loss: 2.0148 (avg 2.2550),  avg acc: 0.1555, avg f1: 0.0996, (20.66 im/s)\n",
            "[TRAIN] epoch 4/5  observation 4500/4502 batch loss: 2.2380 (avg 2.2548),  avg acc: 0.1557, avg f1: 0.0999, (20.93 im/s)\n",
            "Epoch 3 validation: acc: 0.1567, f1: 0.1566 \n",
            "\n"
          ]
        },
        {
          "output_type": "stream",
          "name": "stderr",
          "text": [
            "\r 80%|████████  | 4/5 [1:34:56<23:47, 1427.11s/it]"
          ]
        },
        {
          "output_type": "stream",
          "name": "stdout",
          "text": [
            "Epoch:  4\n",
            "[TRAIN] epoch 5/5  observation 0/4502 batch loss: 2.1326 (avg 2.1326),  avg acc: 0.0000, avg f1: 0.0000, (16.83 im/s)\n",
            "[TRAIN] epoch 5/5  observation 100/4502 batch loss: 1.9978 (avg 2.2594),  avg acc: 0.1452, avg f1: 0.0938, (19.95 im/s)\n",
            "[TRAIN] epoch 5/5  observation 200/4502 batch loss: 2.2103 (avg 2.2606),  avg acc: 0.1459, avg f1: 0.0934, (20.87 im/s)\n",
            "[TRAIN] epoch 5/5  observation 300/4502 batch loss: 2.2300 (avg 2.2528),  avg acc: 0.1556, avg f1: 0.1027, (21.09 im/s)\n",
            "[TRAIN] epoch 5/5  observation 400/4502 batch loss: 2.4344 (avg 2.2535),  avg acc: 0.1608, avg f1: 0.1076, (21.00 im/s)\n",
            "[TRAIN] epoch 5/5  observation 500/4502 batch loss: 2.1919 (avg 2.2539),  avg acc: 0.1597, avg f1: 0.1078, (20.66 im/s)\n",
            "[TRAIN] epoch 5/5  observation 600/4502 batch loss: 2.2425 (avg 2.2537),  avg acc: 0.1617, avg f1: 0.1083, (20.64 im/s)\n",
            "[TRAIN] epoch 5/5  observation 700/4502 batch loss: 2.1646 (avg 2.2540),  avg acc: 0.1591, avg f1: 0.1058, (21.08 im/s)\n",
            "[TRAIN] epoch 5/5  observation 800/4502 batch loss: 2.3440 (avg 2.2540),  avg acc: 0.1592, avg f1: 0.1065, (21.08 im/s)\n",
            "[TRAIN] epoch 5/5  observation 900/4502 batch loss: 2.3207 (avg 2.2556),  avg acc: 0.1589, avg f1: 0.1059, (21.14 im/s)\n",
            "[TRAIN] epoch 5/5  observation 1000/4502 batch loss: 2.2139 (avg 2.2542),  avg acc: 0.1597, avg f1: 0.1065, (20.83 im/s)\n",
            "[TRAIN] epoch 5/5  observation 1100/4502 batch loss: 2.2527 (avg 2.2536),  avg acc: 0.1602, avg f1: 0.1071, (21.04 im/s)\n",
            "[TRAIN] epoch 5/5  observation 1200/4502 batch loss: 2.1129 (avg 2.2515),  avg acc: 0.1611, avg f1: 0.1079, (20.95 im/s)\n",
            "[TRAIN] epoch 5/5  observation 1300/4502 batch loss: 2.1730 (avg 2.2527),  avg acc: 0.1610, avg f1: 0.1073, (21.03 im/s)\n",
            "[TRAIN] epoch 5/5  observation 1400/4502 batch loss: 2.2702 (avg 2.2549),  avg acc: 0.1583, avg f1: 0.1054, (20.89 im/s)\n",
            "[TRAIN] epoch 5/5  observation 1500/4502 batch loss: 2.1714 (avg 2.2547),  avg acc: 0.1569, avg f1: 0.1046, (20.61 im/s)\n",
            "[TRAIN] epoch 5/5  observation 1600/4502 batch loss: 2.1507 (avg 2.2542),  avg acc: 0.1574, avg f1: 0.1042, (20.63 im/s)\n",
            "[TRAIN] epoch 5/5  observation 1700/4502 batch loss: 2.0594 (avg 2.2542),  avg acc: 0.1580, avg f1: 0.1041, (20.80 im/s)\n",
            "[TRAIN] epoch 5/5  observation 1800/4502 batch loss: 2.2940 (avg 2.2534),  avg acc: 0.1584, avg f1: 0.1038, (20.86 im/s)\n",
            "[TRAIN] epoch 5/5  observation 1900/4502 batch loss: 2.4932 (avg 2.2537),  avg acc: 0.1586, avg f1: 0.1030, (20.59 im/s)\n",
            "[TRAIN] epoch 5/5  observation 2000/4502 batch loss: 2.2610 (avg 2.2531),  avg acc: 0.1593, avg f1: 0.1034, (20.74 im/s)\n",
            "[TRAIN] epoch 5/5  observation 2100/4502 batch loss: 2.1395 (avg 2.2541),  avg acc: 0.1587, avg f1: 0.1023, (20.87 im/s)\n",
            "[TRAIN] epoch 5/5  observation 2200/4502 batch loss: 2.3492 (avg 2.2544),  avg acc: 0.1577, avg f1: 0.1011, (20.97 im/s)\n",
            "[TRAIN] epoch 5/5  observation 2300/4502 batch loss: 2.2388 (avg 2.2545),  avg acc: 0.1578, avg f1: 0.1006, (20.97 im/s)\n",
            "[TRAIN] epoch 5/5  observation 2400/4502 batch loss: 2.2296 (avg 2.2542),  avg acc: 0.1583, avg f1: 0.1008, (21.14 im/s)\n",
            "[TRAIN] epoch 5/5  observation 2500/4502 batch loss: 2.5345 (avg 2.2548),  avg acc: 0.1575, avg f1: 0.1001, (20.89 im/s)\n",
            "[TRAIN] epoch 5/5  observation 2600/4502 batch loss: 2.0876 (avg 2.2545),  avg acc: 0.1577, avg f1: 0.1001, (20.78 im/s)\n",
            "[TRAIN] epoch 5/5  observation 2700/4502 batch loss: 2.3937 (avg 2.2550),  avg acc: 0.1576, avg f1: 0.0995, (20.86 im/s)\n",
            "[TRAIN] epoch 5/5  observation 2800/4502 batch loss: 2.4378 (avg 2.2552),  avg acc: 0.1573, avg f1: 0.0989, (20.97 im/s)\n",
            "[TRAIN] epoch 5/5  observation 2900/4502 batch loss: 2.1653 (avg 2.2545),  avg acc: 0.1578, avg f1: 0.0990, (20.85 im/s)\n",
            "[TRAIN] epoch 5/5  observation 3000/4502 batch loss: 2.4019 (avg 2.2544),  avg acc: 0.1578, avg f1: 0.0984, (20.93 im/s)\n",
            "[TRAIN] epoch 5/5  observation 3100/4502 batch loss: 2.3234 (avg 2.2546),  avg acc: 0.1575, avg f1: 0.0976, (20.80 im/s)\n",
            "[TRAIN] epoch 5/5  observation 3200/4502 batch loss: 2.1618 (avg 2.2546),  avg acc: 0.1577, avg f1: 0.0976, (21.00 im/s)\n",
            "[TRAIN] epoch 5/5  observation 3300/4502 batch loss: 2.2301 (avg 2.2544),  avg acc: 0.1577, avg f1: 0.0975, (20.71 im/s)\n",
            "[TRAIN] epoch 5/5  observation 3400/4502 batch loss: 2.4717 (avg 2.2541),  avg acc: 0.1577, avg f1: 0.0976, (20.54 im/s)\n",
            "[TRAIN] epoch 5/5  observation 3500/4502 batch loss: 2.2649 (avg 2.2545),  avg acc: 0.1577, avg f1: 0.0974, (20.81 im/s)\n",
            "[TRAIN] epoch 5/5  observation 3600/4502 batch loss: 2.4832 (avg 2.2540),  avg acc: 0.1578, avg f1: 0.0974, (20.81 im/s)\n",
            "[TRAIN] epoch 5/5  observation 3700/4502 batch loss: 2.3058 (avg 2.2546),  avg acc: 0.1569, avg f1: 0.0970, (20.55 im/s)\n",
            "[TRAIN] epoch 5/5  observation 3800/4502 batch loss: 2.2205 (avg 2.2547),  avg acc: 0.1575, avg f1: 0.0975, (20.72 im/s)\n",
            "[TRAIN] epoch 5/5  observation 3900/4502 batch loss: 2.2566 (avg 2.2548),  avg acc: 0.1571, avg f1: 0.0974, (20.93 im/s)\n",
            "[TRAIN] epoch 5/5  observation 4000/4502 batch loss: 2.3901 (avg 2.2544),  avg acc: 0.1570, avg f1: 0.0977, (20.80 im/s)\n",
            "[TRAIN] epoch 5/5  observation 4100/4502 batch loss: 2.3963 (avg 2.2549),  avg acc: 0.1568, avg f1: 0.0976, (20.69 im/s)\n",
            "[TRAIN] epoch 5/5  observation 4200/4502 batch loss: 2.2969 (avg 2.2544),  avg acc: 0.1568, avg f1: 0.0977, (20.72 im/s)\n",
            "[TRAIN] epoch 5/5  observation 4300/4502 batch loss: 2.1654 (avg 2.2541),  avg acc: 0.1566, avg f1: 0.0977, (20.82 im/s)\n",
            "[TRAIN] epoch 5/5  observation 4400/4502 batch loss: 2.2290 (avg 2.2542),  avg acc: 0.1566, avg f1: 0.0979, (21.04 im/s)\n",
            "[TRAIN] epoch 5/5  observation 4500/4502 batch loss: 2.3335 (avg 2.2543),  avg acc: 0.1564, avg f1: 0.0980, (20.82 im/s)\n",
            "Epoch 4 validation: acc: 0.1567, f1: 0.1566 \n",
            "\n"
          ]
        },
        {
          "output_type": "stream",
          "name": "stderr",
          "text": [
            "100%|██████████| 5/5 [1:58:50<00:00, 1426.11s/it]\n"
          ]
        }
      ],
      "source": [
        "# Khởi tạo DataLoader\n",
        "splits = list(StratifiedKFold(n_splits=5, shuffle=True, random_state=123).split(X, y))\n",
        "\n",
        "for fold, (train_idx, val_idx) in enumerate(splits):\n",
        "    best_score = 0\n",
        "    if fold != FOLD:\n",
        "        continue\n",
        "    print(\"Training for fold {}\".format(fold))\n",
        "    \n",
        "    # Create dataset\n",
        "    train_dataset = torch.utils.data.TensorDataset(torch.tensor(X[train_idx],dtype=torch.long), torch.tensor(y[train_idx],dtype=torch.long))\n",
        "    valid_dataset = torch.utils.data.TensorDataset(torch.tensor(X[val_idx],dtype=torch.long), torch.tensor(y[val_idx],dtype=torch.long))\n",
        "\n",
        "    # Create DataLoader\n",
        "    train_loader = torch.utils.data.DataLoader(train_dataset, batch_size=BATCH_SIZE, shuffle=True)\n",
        "    valid_loader = torch.utils.data.DataLoader(valid_dataset, batch_size=BATCH_SIZE, shuffle=False)\n",
        "\n",
        "    # Khởi tạo model:\n",
        "    MODEL_LAST_CKPT = os.path.join(CKPT_PATH2, 'latest_checkpoint.pth.tar')\n",
        "    if os.path.exists(MODEL_LAST_CKPT):\n",
        "      print('Load checkpoint model!')\n",
        "      phoBERT_cls = torch.load(MODEL_LAST_CKPT)\n",
        "    else:\n",
        "      print('Load model pretrained!')\n",
        "      # Load the model in fairseq\n",
        "      from fairseq.models.roberta import RobertaModel\n",
        "      from fairseq.data.encoders.fastbpe import fastBPE\n",
        "      from fairseq.data import Dictionary\n",
        "\n",
        "      phoBERT_cls = RobertaModel.from_pretrained('PhoBERT_base_fairseq', checkpoint_file='model.pt')\n",
        "      phoBERT_cls.eval()  # disable dropout (or leave in train mode to finetune\n",
        "\n",
        "      # # Load BPE\n",
        "      # class BPE():\n",
        "      #   bpe_codes = 'PhoBERT_base_fairseq/bpe.codes'\n",
        "\n",
        "      # args = BPE()\n",
        "      # phoBERT_cls.bpe = fastBPE(args) #Incorporate the BPE encoder into PhoBERT\n",
        "\n",
        "      # Add header cho classification với số lượng classes = 10\n",
        "      phoBERT_cls.register_classification_head('new_task', num_classes=10)\n",
        "      \n",
        "    ## Load BPE\n",
        "    print('Load BPE')\n",
        "    class BPE():\n",
        "      bpe_codes = 'PhoBERT_base_fairseq/bpe.codes'\n",
        "\n",
        "    args = BPE()\n",
        "    phoBERT_cls.bpe = fastBPE(args) #Incorporate the BPE encoder into PhoBERT\n",
        "    phoBERT_cls.to(DEVICE)\n",
        "\n",
        "    # Khởi tạo optimizer và scheduler, criteria\n",
        "    print('Init Optimizer, scheduler, criteria')\n",
        "    param_optimizer = list(phoBERT_cls.named_parameters())\n",
        "    no_decay = ['bias', 'LayerNorm.bias', 'LayerNorm.weight']\n",
        "    optimizer_grouped_parameters = [\n",
        "        {'params': [p for n, p in param_optimizer if not any(nd in n for nd in no_decay)], 'weight_decay': 0.01},\n",
        "        {'params': [p for n, p in param_optimizer if any(nd in n for nd in no_decay)], 'weight_decay': 0.0}\n",
        "    ]\n",
        "\n",
        "    num_train_optimization_steps = int(EPOCHS*len(train_dataset)/BATCH_SIZE/ACCUMULATION_STEPS)\n",
        "    optimizer = AdamW(optimizer_grouped_parameters, lr=LR, correct_bias=False)  # To reproduce BertAdam specific behavior set correct_bias=False\n",
        "    scheduler = get_linear_schedule_with_warmup(optimizer, num_warmup_steps=100, num_training_steps=num_train_optimization_steps)  # scheduler với linear warmup\n",
        "    scheduler0 = get_constant_schedule(optimizer)  # scheduler với hằng số\n",
        "    # optimizer = optim.Adam(phoBERT_cls.parameters(), LR)\n",
        "    criteria = nn.NLLLoss()\n",
        "    # scheduler = StepLR(optimizer, step_size = LR_DC_STEP, gamma = LR_DC)\n",
        "    avg_loss = 0.\n",
        "    avg_accuracy = 0.\n",
        "    frozen = True\n",
        "    for epoch in tqdm(range(EPOCHS)):\n",
        "        # warm up tại epoch đầu tiên, sau epoch đầu sẽ phá băng các layers\n",
        "        if epoch > 0 and frozen:\n",
        "            for child in phoBERT_cls.children():\n",
        "                for param in child.parameters():\n",
        "                    param.requires_grad = True\n",
        "            frozen = False\n",
        "            del scheduler0\n",
        "            torch.cuda.empty_cache()\n",
        "        # Train model on EPOCH\n",
        "        print('Epoch: ', epoch)\n",
        "        trainOnEpoch(train_loader=train_loader, model=phoBERT_cls, optimizer=optimizer, epoch=epoch, num_epochs=EPOCHS, criteria=criteria, device=DEVICE, log_aggr=100)\n",
        "        # scheduler.step(epoch = epoch)\n",
        "        # Phá băng layers sau epoch đầu tiên\n",
        "        if not frozen:\n",
        "            scheduler.step()\n",
        "        else:\n",
        "            scheduler0.step()\n",
        "        optimizer.zero_grad()\n",
        "        # Validate on validation set\n",
        "        acc, f1 = validate(valid_loader, phoBERT_cls, device=DEVICE)\n",
        "        print('Epoch {} validation: acc: {:.4f}, f1: {:.4f} \\n'.format(epoch, acc, f1))\n",
        "\n",
        "        # Store best model checkpoint\n",
        "        ckpt_dict = {\n",
        "            'epoch': epoch + 1,\n",
        "            'state_dict': phoBERT_cls.state_dict(),\n",
        "            'optimizer': optimizer.state_dict()\n",
        "        }\n",
        "        # Save model checkpoint into 'latest_checkpoint.pth.tar'\n",
        "        torch.save(ckpt_dict, MODEL_LAST_CKPT)"
      ]
    },
    {
      "cell_type": "code",
      "source": [
        "# # Load rdrsegmenter from VnCoreNLP\n",
        "# from vncorenlp import VnCoreNLP\n",
        "# rdrsegmenter = VnCoreNLP(\"/Absolute-path-to/vncorenlp/VnCoreNLP-1.1.1.jar\", annotators=\"wseg\", max_heap_size='-Xmx500m') \n",
        "\n",
        "# Input \n",
        "text = \"Ông Nguyễn Khắc Chúc  đang làm việc tại Đại học Quốc gia Hà Nội. Bà Lan, vợ ông Chúc, cũng làm việc tại đây.\"\n",
        "\n",
        "# To perform word segmentation only\n",
        "word_segmented_text = rdrsegmenter.tokenize(text) \n",
        "print(word_segmented_text)"
      ],
      "metadata": {
        "colab": {
          "base_uri": "https://localhost:8080/",
          "height": 217
        },
        "id": "quZvlK4DLJMi",
        "outputId": "0e32981e-a239-4b53-d37e-746c6a3b41b4"
      },
      "execution_count": null,
      "outputs": [
        {
          "output_type": "error",
          "ename": "NameError",
          "evalue": "ignored",
          "traceback": [
            "\u001b[0;31m---------------------------------------------------------------------------\u001b[0m",
            "\u001b[0;31mNameError\u001b[0m                                 Traceback (most recent call last)",
            "\u001b[0;32m<ipython-input-6-42e769114d15>\u001b[0m in \u001b[0;36m<cell line: 9>\u001b[0;34m()\u001b[0m\n\u001b[1;32m      7\u001b[0m \u001b[0;34m\u001b[0m\u001b[0m\n\u001b[1;32m      8\u001b[0m \u001b[0;31m# To perform word segmentation only\u001b[0m\u001b[0;34m\u001b[0m\u001b[0;34m\u001b[0m\u001b[0m\n\u001b[0;32m----> 9\u001b[0;31m \u001b[0mword_segmented_text\u001b[0m \u001b[0;34m=\u001b[0m \u001b[0mrdrsegmenter\u001b[0m\u001b[0;34m.\u001b[0m\u001b[0mtokenize\u001b[0m\u001b[0;34m(\u001b[0m\u001b[0mtext\u001b[0m\u001b[0;34m)\u001b[0m\u001b[0;34m\u001b[0m\u001b[0;34m\u001b[0m\u001b[0m\n\u001b[0m\u001b[1;32m     10\u001b[0m \u001b[0mprint\u001b[0m\u001b[0;34m(\u001b[0m\u001b[0mword_segmented_text\u001b[0m\u001b[0;34m)\u001b[0m\u001b[0;34m\u001b[0m\u001b[0;34m\u001b[0m\u001b[0m\n",
            "\u001b[0;31mNameError\u001b[0m: name 'rdrsegmenter' is not defined"
          ]
        }
      ]
    },
    {
      "cell_type": "code",
      "source": [
        "# Input \n",
        "text = \"Man.United đang tiến rất gần thời điểm trở lại với Champions League, họ chỉ cần giành thêm một điểm trong trận đấu bù với Chelsea vào thứ Năm này là loại bỏ Liverpool ra khỏi cuộc đua. HLV Erik ten Hag cũng không giấu giếm ý đồ muốn tăng cường một tiền đạo đẳng cấp hàng đầu vào mùa hè để cải thiện cho hàng công của mình. Những cái tên như Harry Kane của Tottenham, Victor Osimhen của Napoli và Dusan Vlahovic của Juventus… đã được liên hệ chuyển đến Old Trafford.\"\n",
        "\n",
        "# To perform word segmentation only\n",
        "word_segmented_text = rdrsegmenter.tokenize(text) \n",
        "print(word_segmented_text)"
      ],
      "metadata": {
        "id": "zQnjAzkhLTEr",
        "outputId": "ac15e421-3951-48c3-a1f8-70d08231b130",
        "colab": {
          "base_uri": "https://localhost:8080/",
          "height": 130
        }
      },
      "execution_count": null,
      "outputs": [
        {
          "output_type": "error",
          "ename": "SyntaxError",
          "evalue": "ignored",
          "traceback": [
            "\u001b[0;36m  File \u001b[0;32m\"<ipython-input-3-c496fc1c4150>\"\u001b[0;36m, line \u001b[0;32m6\u001b[0m\n\u001b[0;31m    print(word_segmented_text\u001b[0m\n\u001b[0m                             ^\u001b[0m\n\u001b[0;31mSyntaxError\u001b[0m\u001b[0;31m:\u001b[0m incomplete input\n"
          ]
        }
      ]
    }
  ],
  "metadata": {
    "accelerator": "GPU",
    "colab": {
      "provenance": [],
      "gpuType": "T4",
      "toc_visible": true,
      "include_colab_link": true
    },
    "gpuClass": "standard",
    "kernelspec": {
      "display_name": "Python 3",
      "name": "python3"
    },
    "language_info": {
      "name": "python"
    }
  },
  "nbformat": 4,
  "nbformat_minor": 0
}